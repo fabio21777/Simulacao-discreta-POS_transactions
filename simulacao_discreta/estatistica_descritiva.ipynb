{
 "cells": [
  {
   "cell_type": "code",
   "execution_count": 1,
   "metadata": {},
   "outputs": [],
   "source": [
    "import numpy as np\n",
    "import pandas as pd\n",
    "import re\n",
    "import collections\n",
    "import operator\n",
    "import simpy\n",
    "import random"
   ]
  },
  {
   "cell_type": "code",
   "execution_count": 2,
   "metadata": {},
   "outputs": [],
   "source": [
    "trasacao = pd.read_csv(\"data/POS_transactions_20190328-20190410.csv\")"
   ]
  },
  {
   "cell_type": "code",
   "execution_count": 3,
   "metadata": {},
   "outputs": [
    {
     "data": {
      "text/html": [
       "<div>\n",
       "<style scoped>\n",
       "    .dataframe tbody tr th:only-of-type {\n",
       "        vertical-align: middle;\n",
       "    }\n",
       "\n",
       "    .dataframe tbody tr th {\n",
       "        vertical-align: top;\n",
       "    }\n",
       "\n",
       "    .dataframe thead th {\n",
       "        text-align: right;\n",
       "    }\n",
       "</style>\n",
       "<table border=\"1\" class=\"dataframe\">\n",
       "  <thead>\n",
       "    <tr style=\"text-align: right;\">\n",
       "      <th></th>\n",
       "      <th>WorkstationGroupID</th>\n",
       "      <th>TranID</th>\n",
       "      <th>BeginDateTime</th>\n",
       "      <th>EndDateTime</th>\n",
       "      <th>OperatorID</th>\n",
       "      <th>TranTime</th>\n",
       "      <th>BreakTime</th>\n",
       "      <th>ArtNum</th>\n",
       "      <th>TNcash</th>\n",
       "      <th>TNcard</th>\n",
       "      <th>Amount</th>\n",
       "    </tr>\n",
       "  </thead>\n",
       "  <tbody>\n",
       "    <tr>\n",
       "      <th>0</th>\n",
       "      <td>1</td>\n",
       "      <td>1.904031e+13</td>\n",
       "      <td>2019-04-03T13:28:17</td>\n",
       "      <td>2019-04-03T13:28:17</td>\n",
       "      <td>10</td>\n",
       "      <td>0</td>\n",
       "      <td>1</td>\n",
       "      <td>1</td>\n",
       "      <td>False</td>\n",
       "      <td>False</td>\n",
       "      <td>11.99</td>\n",
       "    </tr>\n",
       "    <tr>\n",
       "      <th>1</th>\n",
       "      <td>1</td>\n",
       "      <td>1.903291e+13</td>\n",
       "      <td>2019-03-29T14:04:50</td>\n",
       "      <td>2019-03-29T14:05:31</td>\n",
       "      <td>101</td>\n",
       "      <td>41</td>\n",
       "      <td>21</td>\n",
       "      <td>6</td>\n",
       "      <td>True</td>\n",
       "      <td>False</td>\n",
       "      <td>13.74</td>\n",
       "    </tr>\n",
       "    <tr>\n",
       "      <th>2</th>\n",
       "      <td>1</td>\n",
       "      <td>1.903291e+13</td>\n",
       "      <td>2019-03-29T14:05:52</td>\n",
       "      <td>2019-03-29T14:06:35</td>\n",
       "      <td>101</td>\n",
       "      <td>43</td>\n",
       "      <td>44</td>\n",
       "      <td>12</td>\n",
       "      <td>True</td>\n",
       "      <td>False</td>\n",
       "      <td>97.47</td>\n",
       "    </tr>\n",
       "    <tr>\n",
       "      <th>3</th>\n",
       "      <td>1</td>\n",
       "      <td>1.903291e+13</td>\n",
       "      <td>2019-03-29T14:07:19</td>\n",
       "      <td>2019-03-29T14:07:43</td>\n",
       "      <td>101</td>\n",
       "      <td>24</td>\n",
       "      <td>25</td>\n",
       "      <td>6</td>\n",
       "      <td>False</td>\n",
       "      <td>True</td>\n",
       "      <td>37.18</td>\n",
       "    </tr>\n",
       "    <tr>\n",
       "      <th>4</th>\n",
       "      <td>1</td>\n",
       "      <td>1.903291e+13</td>\n",
       "      <td>2019-03-29T14:08:08</td>\n",
       "      <td>2019-03-29T14:09:44</td>\n",
       "      <td>101</td>\n",
       "      <td>96</td>\n",
       "      <td>18</td>\n",
       "      <td>48</td>\n",
       "      <td>True</td>\n",
       "      <td>False</td>\n",
       "      <td>154.70</td>\n",
       "    </tr>\n",
       "  </tbody>\n",
       "</table>\n",
       "</div>"
      ],
      "text/plain": [
       "   WorkstationGroupID        TranID        BeginDateTime          EndDateTime  \\\n",
       "0                   1  1.904031e+13  2019-04-03T13:28:17  2019-04-03T13:28:17   \n",
       "1                   1  1.903291e+13  2019-03-29T14:04:50  2019-03-29T14:05:31   \n",
       "2                   1  1.903291e+13  2019-03-29T14:05:52  2019-03-29T14:06:35   \n",
       "3                   1  1.903291e+13  2019-03-29T14:07:19  2019-03-29T14:07:43   \n",
       "4                   1  1.903291e+13  2019-03-29T14:08:08  2019-03-29T14:09:44   \n",
       "\n",
       "   OperatorID  TranTime  BreakTime  ArtNum  TNcash  TNcard  Amount  \n",
       "0          10         0          1       1   False   False   11.99  \n",
       "1         101        41         21       6    True   False   13.74  \n",
       "2         101        43         44      12    True   False   97.47  \n",
       "3         101        24         25       6   False    True   37.18  \n",
       "4         101        96         18      48    True   False  154.70  "
      ]
     },
     "execution_count": 3,
     "metadata": {},
     "output_type": "execute_result"
    }
   ],
   "source": [
    "trasacao.head()"
   ]
  },
  {
   "cell_type": "code",
   "execution_count": 4,
   "metadata": {},
   "outputs": [
    {
     "data": {
      "text/plain": [
       "WorkstationGroupID      int64\n",
       "TranID                float64\n",
       "BeginDateTime          object\n",
       "EndDateTime            object\n",
       "OperatorID              int64\n",
       "TranTime                int64\n",
       "BreakTime               int64\n",
       "ArtNum                  int64\n",
       "TNcash                   bool\n",
       "TNcard                   bool\n",
       "Amount                float64\n",
       "dtype: object"
      ]
     },
     "execution_count": 4,
     "metadata": {},
     "output_type": "execute_result"
    }
   ],
   "source": [
    "trasacao.dtypes"
   ]
  },
  {
   "cell_type": "code",
   "execution_count": 5,
   "metadata": {},
   "outputs": [],
   "source": [
    "trasacao_workstation_service = trasacao.query('WorkstationGroupID == 1')"
   ]
  },
  {
   "cell_type": "code",
   "execution_count": 6,
   "metadata": {},
   "outputs": [],
   "source": [
    "trasacao_workstation_service_date = trasacao_workstation_service.loc[trasacao_workstation_service.BeginDateTime.str.contains('2019-04-03T10|2019-04-03T11|2019-04-03T12', flags=re.I, regex=True)]"
   ]
  },
  {
   "cell_type": "markdown",
   "metadata": {},
   "source": [
    "## Estatistica descritiva campo TranTime"
   ]
  },
  {
   "cell_type": "code",
   "execution_count": 7,
   "metadata": {},
   "outputs": [
    {
     "name": "stdout",
     "output_type": "stream",
     "text": [
      "media 50.55750487329435\n",
      "mediana 41.0\n",
      "Moda [26, 31]\n",
      "minimo 0\n",
      "maximo 309\n",
      "amplitude 309\n",
      "desvio padrão 40.12457538731323\n",
      "variacia 1609.9815500121827\n",
      "coeficinte de variação 0.7936423185414746\n",
      "Assimetria 2.0333015820729505\n"
     ]
    }
   ],
   "source": [
    "print(\"media\",trasacao_workstation_service_date[\"TranTime\"].mean())\n",
    "print(\"mediana\",trasacao_workstation_service_date[\"TranTime\"].median())\n",
    "print(\"Moda\",list(trasacao_workstation_service_date[\"TranTime\"].mode()))\n",
    "print(\"minimo\",trasacao_workstation_service_date[\"TranTime\"].min())\n",
    "print(\"maximo\",trasacao_workstation_service_date[\"TranTime\"].max())\n",
    "print(\"amplitude\",trasacao_workstation_service_date[\"TranTime\"].max()-trasacao_workstation_service_date[\"TranTime\"].min())\n",
    "print(\"desvio padrão\",trasacao_workstation_service_date[\"TranTime\"].std())\n",
    "print(\"variacia\",trasacao_workstation_service_date[\"TranTime\"].var())\n",
    "print(\"coeficinte de variação\",trasacao_workstation_service_date[\"TranTime\"].std()/trasacao_workstation_service_date[\"TranTime\"].mean())\n",
    "print(\"Assimetria\",trasacao_workstation_service_date[\"TranTime\"].skew())"
   ]
  },
  {
   "cell_type": "markdown",
   "metadata": {},
   "source": [
    "## Estatistica descritiva campo Breaktime"
   ]
  },
  {
   "cell_type": "code",
   "execution_count": 8,
   "metadata": {},
   "outputs": [
    {
     "name": "stdout",
     "output_type": "stream",
     "text": [
      "media 33.44054580896686\n",
      "mediana 21.0\n",
      "Moda [17]\n",
      "minimo 6\n",
      "maximo 1147\n",
      "amplitude 1141\n",
      "desvio padrão 71.21608892361684\n",
      "variacia 5071.731321576502\n",
      "coeficinte de variação 2.129632971018096\n",
      "Assimetria 12.022677107628233\n"
     ]
    }
   ],
   "source": [
    "print(\"media\",trasacao_workstation_service_date[\"BreakTime\"].mean())\n",
    "print(\"mediana\",trasacao_workstation_service_date[\"BreakTime\"].median())\n",
    "print(\"Moda\",list(trasacao_workstation_service_date[\"BreakTime\"].mode()))\n",
    "print(\"minimo\",trasacao_workstation_service_date[\"BreakTime\"].min())\n",
    "print(\"maximo\",trasacao_workstation_service_date[\"BreakTime\"].max())\n",
    "print(\"amplitude\",trasacao_workstation_service_date[\"BreakTime\"].max()-trasacao_workstation_service_date[\"BreakTime\"].min())\n",
    "print(\"desvio padrão\",trasacao_workstation_service_date[\"BreakTime\"].std())\n",
    "print(\"variacia\",trasacao_workstation_service_date[\"BreakTime\"].var())\n",
    "print(\"coeficinte de variação\",trasacao_workstation_service_date[\"BreakTime\"].std()/trasacao_workstation_service_date[\"BreakTime\"].mean())\n",
    "print(\"Assimetria\",trasacao_workstation_service_date[\"BreakTime\"].skew())\n"
   ]
  },
  {
   "cell_type": "markdown",
   "metadata": {},
   "source": [
    "## Estatistica Descritiva campo numeros de artigos"
   ]
  },
  {
   "cell_type": "code",
   "execution_count": 9,
   "metadata": {},
   "outputs": [
    {
     "name": "stdout",
     "output_type": "stream",
     "text": [
      "media 15.19103313840156\n",
      "mediana 11.0\n",
      "Moda [3]\n",
      "minimo 1\n",
      "maximo 123\n",
      "amplitude 122\n",
      "desvio padrão 14.937191337843698\n",
      "variacia 223.1196850633528\n",
      "coeficinte de variação 0.9832900239078426\n",
      "Assimetria 2.6803168909075863\n"
     ]
    }
   ],
   "source": [
    "print(\"media\",trasacao_workstation_service_date[\"ArtNum\"].mean())\n",
    "print(\"mediana\",trasacao_workstation_service_date[\"ArtNum\"].median())\n",
    "print(\"Moda\",list(trasacao_workstation_service_date[\"ArtNum\"].mode()))\n",
    "print(\"minimo\",trasacao_workstation_service_date[\"ArtNum\"].min())\n",
    "print(\"maximo\",trasacao_workstation_service_date[\"ArtNum\"].max())\n",
    "print(\"amplitude\",trasacao_workstation_service_date[\"ArtNum\"].max()-trasacao_workstation_service_date[\"ArtNum\"].min())\n",
    "print(\"desvio padrão\",trasacao_workstation_service_date[\"ArtNum\"].std())\n",
    "print(\"variacia\",trasacao_workstation_service_date[\"ArtNum\"].var())\n",
    "print(\"coeficinte de variação\",trasacao_workstation_service_date[\"ArtNum\"].std()/trasacao_workstation_service_date[\"ArtNum\"].mean())\n",
    "print(\"Assimetria\",trasacao_workstation_service_date[\"ArtNum\"].skew())"
   ]
  },
  {
   "cell_type": "markdown",
   "metadata": {},
   "source": [
    "## Estatistica Descritiva campo TNcash e TNcard"
   ]
  },
  {
   "cell_type": "code",
   "execution_count": 10,
   "metadata": {},
   "outputs": [
    {
     "data": {
      "text/plain": [
       "count      513\n",
       "unique       2\n",
       "top       True\n",
       "freq       335\n",
       "Name: TNcash, dtype: object"
      ]
     },
     "execution_count": 10,
     "metadata": {},
     "output_type": "execute_result"
    }
   ],
   "source": [
    "trasacao_workstation_service_date[\"TNcash\"].describe()"
   ]
  },
  {
   "cell_type": "markdown",
   "metadata": {},
   "source": [
    "## Calculando o tempo medio de item por segundo\n",
    "\n"
   ]
  },
  {
   "cell_type": "code",
   "execution_count": 11,
   "metadata": {},
   "outputs": [
    {
     "data": {
      "text/plain": [
       "9.170826263339407"
      ]
     },
     "execution_count": 11,
     "metadata": {},
     "output_type": "execute_result"
    }
   ],
   "source": [
    "produtos_segundos = 0\n",
    "for index, trasacao in trasacao_workstation_service_date.iterrows():\n",
    "    produtos_segundos +=np.add(trasacao[\"TranTime\"],trasacao[\"BreakTime\"])/trasacao['ArtNum']\n",
    "media_produtos_segundos=produtos_segundos/len(trasacao_workstation_service_date.index)\n",
    "media_produtos_segundos"
   ]
  },
  {
   "cell_type": "markdown",
   "metadata": {},
   "source": [
    "##  Calculando o tempo medio de item por segundo considerando somente o tempo de trasação"
   ]
  },
  {
   "cell_type": "code",
   "execution_count": 12,
   "metadata": {},
   "outputs": [
    {
     "data": {
      "text/plain": [
       "4.642332924547316"
      ]
     },
     "execution_count": 12,
     "metadata": {},
     "output_type": "execute_result"
    }
   ],
   "source": [
    "produtos_segundos = 0\n",
    "for index, trasacao in trasacao_workstation_service_date.iterrows():\n",
    "    if trasacao[\"TranTime\"]>0:\n",
    "        produtos_segundos += trasacao[\"TranTime\"]/trasacao['ArtNum']\n",
    "media_produtos_segundos=produtos_segundos/len(trasacao_workstation_service_date.index)\n",
    "media_produtos_segundos"
   ]
  },
  {
   "cell_type": "markdown",
   "metadata": {},
   "source": [
    "##  Calculando o tempo medio de item por segundo considerando somente o tempo de empacotamento"
   ]
  },
  {
   "cell_type": "code",
   "execution_count": 13,
   "metadata": {},
   "outputs": [
    {
     "data": {
      "text/plain": [
       "4.528493338792098"
      ]
     },
     "execution_count": 13,
     "metadata": {},
     "output_type": "execute_result"
    }
   ],
   "source": [
    "\n",
    "produtos_segundos = 0\n",
    "for index, trasacao in trasacao_workstation_service_date.iterrows():\n",
    "    produtos_segundos += (trasacao[\"BreakTime\"])/trasacao['ArtNum']\n",
    "media_produtos_segundos=produtos_segundos/len(trasacao_workstation_service_date.index)\n",
    "media_produtos_segundos"
   ]
  },
  {
   "cell_type": "markdown",
   "metadata": {},
   "source": [
    "## Estatistica descritiva considerando apenas TNcash\n"
   ]
  },
  {
   "cell_type": "code",
   "execution_count": 14,
   "metadata": {},
   "outputs": [],
   "source": [
    "trasacao_workstation_service_date_tncash = trasacao_workstation_service_date.query('TNcash == True')"
   ]
  },
  {
   "cell_type": "markdown",
   "metadata": {},
   "source": [
    "### Estatistica descritiva campo TranTime"
   ]
  },
  {
   "cell_type": "code",
   "execution_count": 15,
   "metadata": {},
   "outputs": [
    {
     "name": "stdout",
     "output_type": "stream",
     "text": [
      "media 44.208955223880594\n",
      "mediana 35.0\n",
      "Moda [11, 26, 28]\n",
      "minimo 4\n",
      "maximo 309\n",
      "amplitude 305\n",
      "desvio padrão 37.53096019896204\n",
      "variacia 1408.5729734560728\n",
      "coeficinte de variação 0.8489447445410051\n",
      "Assimetria 2.6301824423971367\n"
     ]
    }
   ],
   "source": [
    "print(\"media\",trasacao_workstation_service_date_tncash[\"TranTime\"].mean())\n",
    "print(\"mediana\",trasacao_workstation_service_date_tncash[\"TranTime\"].median())\n",
    "print(\"Moda\",list(trasacao_workstation_service_date_tncash[\"TranTime\"].mode()))\n",
    "print(\"minimo\",trasacao_workstation_service_date_tncash[\"TranTime\"].min())\n",
    "print(\"maximo\",trasacao_workstation_service_date_tncash[\"TranTime\"].max())\n",
    "print(\"amplitude\",trasacao_workstation_service_date_tncash[\"TranTime\"].max()-trasacao_workstation_service_date_tncash[\"TranTime\"].min())\n",
    "print(\"desvio padrão\",trasacao_workstation_service_date_tncash[\"TranTime\"].std())\n",
    "print(\"variacia\",trasacao_workstation_service_date_tncash[\"TranTime\"].var())\n",
    "print(\"coeficinte de variação\",trasacao_workstation_service_date_tncash[\"TranTime\"].std()/trasacao_workstation_service_date_tncash[\"TranTime\"].mean())\n",
    "print(\"Assimetria\",trasacao_workstation_service_date_tncash[\"TranTime\"].skew())"
   ]
  },
  {
   "cell_type": "markdown",
   "metadata": {},
   "source": [
    "### Estatistica descritiva campo BreakTime"
   ]
  },
  {
   "cell_type": "code",
   "execution_count": 16,
   "metadata": {},
   "outputs": [
    {
     "name": "stdout",
     "output_type": "stream",
     "text": [
      "media 33.56417910447761\n",
      "mediana 22.0\n",
      "Moda [17, 19]\n",
      "minimo 8\n",
      "maximo 940\n",
      "amplitude 932\n",
      "desvio padrão 57.94443885705379\n",
      "variacia 3357.5579944588453\n",
      "coeficinte de variação 1.7263773583344912\n",
      "Assimetria 12.235668470386164\n"
     ]
    }
   ],
   "source": [
    "print(\"media\",trasacao_workstation_service_date_tncash[\"BreakTime\"].mean())\n",
    "print(\"mediana\",trasacao_workstation_service_date_tncash[\"BreakTime\"].median())\n",
    "print(\"Moda\",list(trasacao_workstation_service_date_tncash[\"BreakTime\"].mode()))\n",
    "print(\"minimo\",trasacao_workstation_service_date_tncash[\"BreakTime\"].min())\n",
    "print(\"maximo\",trasacao_workstation_service_date_tncash[\"BreakTime\"].max())\n",
    "print(\"amplitude\",trasacao_workstation_service_date_tncash[\"BreakTime\"].max()-trasacao_workstation_service_date_tncash[\"BreakTime\"].min())\n",
    "print(\"desvio padrão\",trasacao_workstation_service_date_tncash[\"BreakTime\"].std())\n",
    "print(\"variacia\",trasacao_workstation_service_date_tncash[\"BreakTime\"].var())\n",
    "print(\"coeficinte de variação\",trasacao_workstation_service_date_tncash[\"BreakTime\"].std()/trasacao_workstation_service_date_tncash[\"BreakTime\"].mean())\n",
    "print(\"Assimetria\",trasacao_workstation_service_date_tncash[\"BreakTime\"].skew())"
   ]
  },
  {
   "cell_type": "markdown",
   "metadata": {},
   "source": [
    "### Estatistica descritiva campo ArtNum"
   ]
  },
  {
   "cell_type": "code",
   "execution_count": 17,
   "metadata": {},
   "outputs": [
    {
     "name": "stdout",
     "output_type": "stream",
     "text": [
      "media 13.170149253731344\n",
      "mediana 10.0\n",
      "Moda [3]\n",
      "minimo 1\n",
      "maximo 123\n",
      "amplitude 122\n",
      "desvio padrão 13.458663871692076\n",
      "variacia 181.13563321118957\n",
      "coeficinte de variação 1.0219067082993756\n",
      "Assimetria 3.526173671756291\n"
     ]
    }
   ],
   "source": [
    "print(\"media\",trasacao_workstation_service_date_tncash[\"ArtNum\"].mean())\n",
    "print(\"mediana\",trasacao_workstation_service_date_tncash[\"ArtNum\"].median())\n",
    "print(\"Moda\",list(trasacao_workstation_service_date_tncash[\"ArtNum\"].mode()))\n",
    "print(\"minimo\",trasacao_workstation_service_date_tncash[\"ArtNum\"].min())\n",
    "print(\"maximo\",trasacao_workstation_service_date_tncash[\"ArtNum\"].max())\n",
    "print(\"amplitude\",trasacao_workstation_service_date_tncash[\"ArtNum\"].max()-trasacao_workstation_service_date_tncash[\"ArtNum\"].min())\n",
    "print(\"desvio padrão\",trasacao_workstation_service_date_tncash[\"ArtNum\"].std())\n",
    "print(\"variacia\",trasacao_workstation_service_date_tncash[\"ArtNum\"].var())\n",
    "print(\"coeficinte de variação\",trasacao_workstation_service_date_tncash[\"ArtNum\"].std()/trasacao_workstation_service_date_tncash[\"ArtNum\"].mean())\n",
    "print(\"Assimetria\",trasacao_workstation_service_date_tncash[\"ArtNum\"].skew())"
   ]
  },
  {
   "cell_type": "markdown",
   "metadata": {},
   "source": [
    "### Calculando o tempo medio de item por segundo"
   ]
  },
  {
   "cell_type": "code",
   "execution_count": 18,
   "metadata": {},
   "outputs": [
    {
     "data": {
      "text/plain": [
       "9.980679204243227"
      ]
     },
     "execution_count": 18,
     "metadata": {},
     "output_type": "execute_result"
    }
   ],
   "source": [
    "produtos_segundos = 0\n",
    "for index, trasacao in trasacao_workstation_service_date_tncash.iterrows():\n",
    "    produtos_segundos +=np.add(trasacao[\"TranTime\"],trasacao[\"BreakTime\"])/trasacao['ArtNum']\n",
    "media_produtos_segundos=produtos_segundos/len(trasacao_workstation_service_date_tncash.index)\n",
    "media_produtos_segundos"
   ]
  },
  {
   "cell_type": "markdown",
   "metadata": {},
   "source": [
    "###  Calculando o tempo medio de item por segundo considerando somente o tempo de trasação"
   ]
  },
  {
   "cell_type": "code",
   "execution_count": 19,
   "metadata": {},
   "outputs": [
    {
     "data": {
      "text/plain": [
       "4.537310756315868"
      ]
     },
     "execution_count": 19,
     "metadata": {},
     "output_type": "execute_result"
    }
   ],
   "source": [
    "produtos_segundos = 0\n",
    "for index, trasacao in trasacao_workstation_service_date_tncash.iterrows():\n",
    "    if trasacao[\"TranTime\"]>0:\n",
    "        produtos_segundos += trasacao[\"TranTime\"]/trasacao['ArtNum']\n",
    "media_produtos_segundos=produtos_segundos/len(trasacao_workstation_service_date_tncash.index)\n",
    "media_produtos_segundos"
   ]
  },
  {
   "cell_type": "markdown",
   "metadata": {},
   "source": [
    "###  Calculando o tempo medio de item por segundo considerando somente o tempo de empacotamento"
   ]
  },
  {
   "cell_type": "code",
   "execution_count": 20,
   "metadata": {},
   "outputs": [
    {
     "data": {
      "text/plain": [
       "5.4433684479273605"
      ]
     },
     "execution_count": 20,
     "metadata": {},
     "output_type": "execute_result"
    }
   ],
   "source": [
    "produtos_segundos = 0\n",
    "for index, trasacao in trasacao_workstation_service_date_tncash.iterrows():\n",
    "    produtos_segundos += (trasacao[\"BreakTime\"])/trasacao['ArtNum']\n",
    "media_produtos_segundos=produtos_segundos/len(trasacao_workstation_service_date_tncash.index)\n",
    "media_produtos_segundos"
   ]
  },
  {
   "cell_type": "markdown",
   "metadata": {},
   "source": [
    "## Estatistica descritiva considerando apenas TNcard"
   ]
  },
  {
   "cell_type": "code",
   "execution_count": 21,
   "metadata": {},
   "outputs": [],
   "source": [
    "trasacao_workstation_service_date_tncard = trasacao_workstation_service_date.query('TNcard == True')"
   ]
  },
  {
   "cell_type": "markdown",
   "metadata": {},
   "source": [
    "### Estatistica descritiva campo TranTime"
   ]
  },
  {
   "cell_type": "code",
   "execution_count": 22,
   "metadata": {},
   "outputs": [
    {
     "name": "stdout",
     "output_type": "stream",
     "text": [
      "media 64.33714285714285\n",
      "mediana 52.0\n",
      "Moda [31]\n",
      "minimo 13\n",
      "maximo 251\n",
      "amplitude 238\n",
      "desvio padrão 41.99487575277451\n",
      "variacia 1763.5695894909688\n",
      "coeficinte de variação 0.6527314376708002\n",
      "Assimetria 1.3877977720260803\n"
     ]
    }
   ],
   "source": [
    "print(\"media\",trasacao_workstation_service_date_tncard[\"TranTime\"].mean())\n",
    "print(\"mediana\",trasacao_workstation_service_date_tncard[\"TranTime\"].median())\n",
    "print(\"Moda\",list(trasacao_workstation_service_date_tncard[\"TranTime\"].mode()))\n",
    "print(\"minimo\",trasacao_workstation_service_date_tncard[\"TranTime\"].min())\n",
    "print(\"maximo\",trasacao_workstation_service_date_tncard[\"TranTime\"].max())\n",
    "print(\"amplitude\",trasacao_workstation_service_date_tncard[\"TranTime\"].max()-trasacao_workstation_service_date_tncard[\"TranTime\"].min())\n",
    "print(\"desvio padrão\",trasacao_workstation_service_date_tncard[\"TranTime\"].std())\n",
    "print(\"variacia\",trasacao_workstation_service_date_tncard[\"TranTime\"].var())\n",
    "print(\"coeficinte de variação\",trasacao_workstation_service_date_tncard[\"TranTime\"].std()/trasacao_workstation_service_date_tncard[\"TranTime\"].mean())\n",
    "print(\"Assimetria\",trasacao_workstation_service_date_tncard[\"TranTime\"].skew())"
   ]
  },
  {
   "cell_type": "markdown",
   "metadata": {},
   "source": [
    "### Estatistica descritiva campo BreakTime"
   ]
  },
  {
   "cell_type": "code",
   "execution_count": 23,
   "metadata": {},
   "outputs": [
    {
     "name": "stdout",
     "output_type": "stream",
     "text": [
      "media 32.48\n",
      "mediana 16.0\n",
      "Moda [14]\n",
      "minimo 6\n",
      "maximo 1147\n",
      "amplitude 1141\n",
      "desvio padrão 91.86445787511983\n",
      "variacia 8439.078620689665\n",
      "coeficinte de variação 2.828339220293098\n",
      "Assimetria 10.706897789257468\n"
     ]
    }
   ],
   "source": [
    "print(\"media\",trasacao_workstation_service_date_tncard[\"BreakTime\"].mean())\n",
    "print(\"mediana\",trasacao_workstation_service_date_tncard[\"BreakTime\"].median())\n",
    "print(\"Moda\",list(trasacao_workstation_service_date_tncard[\"BreakTime\"].mode()))\n",
    "print(\"minimo\",trasacao_workstation_service_date_tncard[\"BreakTime\"].min())\n",
    "print(\"maximo\",trasacao_workstation_service_date_tncard[\"BreakTime\"].max())\n",
    "print(\"amplitude\",trasacao_workstation_service_date_tncard[\"BreakTime\"].max()-trasacao_workstation_service_date_tncard[\"BreakTime\"].min())\n",
    "print(\"desvio padrão\",trasacao_workstation_service_date_tncard[\"BreakTime\"].std())\n",
    "print(\"variacia\",trasacao_workstation_service_date_tncard[\"BreakTime\"].var())\n",
    "print(\"coeficinte de variação\",trasacao_workstation_service_date_tncard[\"BreakTime\"].std()/trasacao_workstation_service_date_tncard[\"BreakTime\"].mean())\n",
    "print(\"Assimetria\",trasacao_workstation_service_date_tncard[\"BreakTime\"].skew())"
   ]
  },
  {
   "cell_type": "markdown",
   "metadata": {},
   "source": [
    "### Estatistica descritiva campo ArtNum"
   ]
  },
  {
   "cell_type": "code",
   "execution_count": 24,
   "metadata": {},
   "outputs": [
    {
     "name": "stdout",
     "output_type": "stream",
     "text": [
      "media 18.925714285714285\n",
      "mediana 13.0\n",
      "Moda [3]\n",
      "minimo 1\n",
      "maximo 98\n",
      "amplitude 97\n",
      "desvio padrão 17.016225233061128\n",
      "variacia 289.5519211822662\n",
      "coeficinte de variação 0.8991061038000294\n",
      "Assimetria 1.7948384626166136\n"
     ]
    }
   ],
   "source": [
    "print(\"media\",trasacao_workstation_service_date_tncard[\"ArtNum\"].mean())\n",
    "print(\"mediana\",trasacao_workstation_service_date_tncard[\"ArtNum\"].median())\n",
    "print(\"Moda\",list(trasacao_workstation_service_date_tncard[\"ArtNum\"].mode()))\n",
    "print(\"minimo\",trasacao_workstation_service_date_tncard[\"ArtNum\"].min())\n",
    "print(\"maximo\",trasacao_workstation_service_date_tncard[\"ArtNum\"].max())\n",
    "print(\"amplitude\",trasacao_workstation_service_date_tncard[\"ArtNum\"].max()-trasacao_workstation_service_date_tncard[\"ArtNum\"].min())\n",
    "print(\"desvio padrão\",trasacao_workstation_service_date_tncard[\"ArtNum\"].std())\n",
    "print(\"variacia\",trasacao_workstation_service_date_tncard[\"ArtNum\"].var())\n",
    "print(\"coeficinte de variação\",trasacao_workstation_service_date_tncard[\"ArtNum\"].std()/trasacao_workstation_service_date_tncard[\"ArtNum\"].mean())\n",
    "print(\"Assimetria\",trasacao_workstation_service_date_tncard[\"ArtNum\"].skew())"
   ]
  },
  {
   "cell_type": "markdown",
   "metadata": {},
   "source": [
    "### Calculando o tempo medio de item por segundo"
   ]
  },
  {
   "cell_type": "code",
   "execution_count": 25,
   "metadata": {},
   "outputs": [
    {
     "data": {
      "text/plain": [
       "7.877840225663656"
      ]
     },
     "execution_count": 25,
     "metadata": {},
     "output_type": "execute_result"
    }
   ],
   "source": [
    "produtos_segundos = 0\n",
    "for index, trasacao in trasacao_workstation_service_date_tncard.iterrows():\n",
    "    produtos_segundos +=np.add(trasacao[\"TranTime\"],trasacao[\"BreakTime\"])/trasacao['ArtNum']\n",
    "media_produtos_segundos=produtos_segundos/len(trasacao_workstation_service_date_tncard.index)\n",
    "media_produtos_segundos"
   ]
  },
  {
   "cell_type": "markdown",
   "metadata": {},
   "source": [
    "### Calculando o tempo medio de item por transação"
   ]
  },
  {
   "cell_type": "code",
   "execution_count": 26,
   "metadata": {},
   "outputs": [
    {
     "data": {
      "text/plain": [
       "5.0663667686371365"
      ]
     },
     "execution_count": 26,
     "metadata": {},
     "output_type": "execute_result"
    }
   ],
   "source": [
    "produtos_segundos = 0\n",
    "for index, trasacao in trasacao_workstation_service_date_tncard.iterrows():\n",
    "    produtos_segundos += trasacao[\"TranTime\"]/trasacao['ArtNum']\n",
    "media_produtos_segundos=produtos_segundos/len(trasacao_workstation_service_date_tncard.index)\n",
    "media_produtos_segundos"
   ]
  },
  {
   "cell_type": "markdown",
   "metadata": {},
   "source": [
    "### Calculando o tempo medio item por tempo de empacotamento"
   ]
  },
  {
   "cell_type": "code",
   "execution_count": 27,
   "metadata": {},
   "outputs": [
    {
     "data": {
      "text/plain": [
       "2.8114734570265214"
      ]
     },
     "execution_count": 27,
     "metadata": {},
     "output_type": "execute_result"
    }
   ],
   "source": [
    "produtos_segundos = 0\n",
    "for index, trasacao in trasacao_workstation_service_date_tncard.iterrows():\n",
    "    produtos_segundos += (trasacao[\"BreakTime\"])/trasacao['ArtNum']\n",
    "media_produtos_segundos=produtos_segundos/len(trasacao_workstation_service_date_tncard.index)\n",
    "media_produtos_segundos"
   ]
  },
  {
   "cell_type": "code",
   "execution_count": 28,
   "metadata": {},
   "outputs": [],
   "source": [
    "frequencia = collections.Counter(trasacao_workstation_service_date[\"ArtNum\"])"
   ]
  },
  {
   "cell_type": "code",
   "execution_count": 29,
   "metadata": {},
   "outputs": [],
   "source": [
    "frequencia_ordenada = sorted(frequencia.items(), key=operator.itemgetter(1), reverse=True)"
   ]
  },
  {
   "cell_type": "code",
   "execution_count": 30,
   "metadata": {},
   "outputs": [],
   "source": [
    "frequencia_porcentagem = {}"
   ]
  },
  {
   "cell_type": "code",
   "execution_count": 31,
   "metadata": {},
   "outputs": [],
   "source": [
    "frequencia_f = []\n",
    "for frequencia in frequencia_ordenada:\n",
    "    porcentagem = (frequencia[1]/len(trasacao_workstation_service_date.index))*100\n",
    "    frequencia_f.append((frequencia[0],porcentagem))\n"
   ]
  },
  {
   "cell_type": "code",
   "execution_count": 32,
   "metadata": {},
   "outputs": [],
   "source": [
    "frequencia_dividida = {'a':[1,23,1]}\n",
    "frequencia_dividida['a'].append(4)\n"
   ]
  },
  {
   "cell_type": "code",
   "execution_count": 33,
   "metadata": {},
   "outputs": [],
   "source": [
    "frequencia_dividida_tamanho = {\"qtd_pequena\": [], \"qtd_media\": [], \"qtd_grande\": []}\n",
    "soma_frequencia_pequena = 0\n",
    "soma_frequencia_media = 0\n",
    "soma_frequencia_grande = 0\n",
    "for frequencia in frequencia_f:\n",
    "    if frequencia[0] <= 10 :\n",
    "        frequencia_dividida_tamanho[\"qtd_pequena\"].append(frequencia[0])\n",
    "        soma_frequencia_pequena += frequencia[1] \n",
    "    elif (frequencia[0] > 10) & (frequencia[0]<=30):\n",
    "        frequencia_dividida_tamanho[\"qtd_media\"].append(frequencia[0])\n",
    "        soma_frequencia_media += frequencia[1]\n",
    "    else :\n",
    "        frequencia_dividida_tamanho[\"qtd_grande\"].append(frequencia[0])\n",
    "        soma_frequencia_grande += frequencia[1]\n",
    "frequencia_dividida_tamanho[\"qtd_pequena\"] = (soma_frequencia_pequena)\n",
    "frequencia_dividida_tamanho[\"qtd_media\"] = (soma_frequencia_media)\n",
    "frequencia_dividida_tamanho[\"qtd_grande\"] = (frequencia_dividida_tamanho[\"qtd_grande\"],soma_frequencia_grande)"
   ]
  },
  {
   "cell_type": "code",
   "execution_count": 34,
   "metadata": {},
   "outputs": [
    {
     "data": {
      "text/plain": [
       "48.927875243664715"
      ]
     },
     "execution_count": 34,
     "metadata": {},
     "output_type": "execute_result"
    }
   ],
   "source": [
    "frequencia_dividida_tamanho[\"qtd_pequena\"]"
   ]
  },
  {
   "cell_type": "code",
   "execution_count": 35,
   "metadata": {},
   "outputs": [
    {
     "data": {
      "text/plain": [
       "39.96101364522416"
      ]
     },
     "execution_count": 35,
     "metadata": {},
     "output_type": "execute_result"
    }
   ],
   "source": [
    "frequencia_dividida_tamanho[\"qtd_media\"]"
   ]
  },
  {
   "cell_type": "code",
   "execution_count": 36,
   "metadata": {},
   "outputs": [
    {
     "data": {
      "text/plain": [
       "([37,\n",
       "  42,\n",
       "  31,\n",
       "  40,\n",
       "  48,\n",
       "  33,\n",
       "  41,\n",
       "  44,\n",
       "  39,\n",
       "  35,\n",
       "  34,\n",
       "  38,\n",
       "  36,\n",
       "  47,\n",
       "  62,\n",
       "  58,\n",
       "  67,\n",
       "  59,\n",
       "  32,\n",
       "  98,\n",
       "  82,\n",
       "  45,\n",
       "  123,\n",
       "  53,\n",
       "  87,\n",
       "  49,\n",
       "  76,\n",
       "  51,\n",
       "  46,\n",
       "  64,\n",
       "  70,\n",
       "  72,\n",
       "  84],\n",
       " 11.111111111111118)"
      ]
     },
     "execution_count": 36,
     "metadata": {},
     "output_type": "execute_result"
    }
   ],
   "source": [
    "frequencia_dividida_tamanho[\"qtd_grande\"]"
   ]
  },
  {
   "cell_type": "markdown",
   "metadata": {},
   "source": [
    "## Calculando o tempo medio de item por segundo"
   ]
  },
  {
   "cell_type": "code",
   "execution_count": 37,
   "metadata": {},
   "outputs": [
    {
     "data": {
      "text/plain": [
       "9.170826263339407"
      ]
     },
     "execution_count": 37,
     "metadata": {},
     "output_type": "execute_result"
    }
   ],
   "source": [
    "\n",
    "produtos_segundos = 0\n",
    "for index, trasacao in trasacao_workstation_service_date.iterrows():\n",
    "    produtos_segundos +=np.add(trasacao[\"TranTime\"],trasacao[\"BreakTime\"])/trasacao['ArtNum']\n",
    "media_produtos_segundos=produtos_segundos/len(trasacao_workstation_service_date.index)\n",
    "media_produtos_segundos"
   ]
  },
  {
   "cell_type": "code",
   "execution_count": 38,
   "metadata": {},
   "outputs": [
    {
     "data": {
      "text/plain": [
       "4.528493338792098"
      ]
     },
     "execution_count": 38,
     "metadata": {},
     "output_type": "execute_result"
    }
   ],
   "source": [
    "\n",
    "produtos_segundos = 0\n",
    "for index, trasacao in trasacao_workstation_service_date.iterrows():\n",
    "    produtos_segundos += (trasacao[\"BreakTime\"])/trasacao['ArtNum']\n",
    "media_produtos_segundos=produtos_segundos/len(trasacao_workstation_service_date.index)\n",
    "media_produtos_segundos"
   ]
  },
  {
   "cell_type": "code",
   "execution_count": 39,
   "metadata": {},
   "outputs": [],
   "source": [
    "produtos_segundos = 0\n",
    "for index, trasacao in trasacao_workstation_service_date.iterrows():\n",
    "    if trasacao[\"TranTime\"]>0:\n",
    "        produtos_segundos += trasacao[\"TranTime\"]/trasacao['ArtNum']\n",
    "media_produtos_segundos=produtos_segundos/len(trasacao_workstation_service_date.index)"
   ]
  },
  {
   "cell_type": "code",
   "execution_count": 40,
   "metadata": {},
   "outputs": [
    {
     "data": {
      "text/plain": [
       "4.642332924547316"
      ]
     },
     "execution_count": 40,
     "metadata": {},
     "output_type": "execute_result"
    }
   ],
   "source": [
    "media_produtos_segundos"
   ]
  },
  {
   "cell_type": "code",
   "execution_count": 41,
   "metadata": {},
   "outputs": [],
   "source": [
    "OperatorIDs=trasacao_workstation_service_date[['OperatorID']]"
   ]
  },
  {
   "cell_type": "code",
   "execution_count": 42,
   "metadata": {},
   "outputs": [],
   "source": [
    "operadores_unicos = OperatorIDs.drop_duplicates()\n",
    "operadores_list = operadores_unicos.values"
   ]
  },
  {
   "cell_type": "code",
   "execution_count": 43,
   "metadata": {},
   "outputs": [],
   "source": [
    "operadores = {}\n",
    "for operador in operadores_list:\n",
    "    operadores[int(operador)] = trasacao_workstation_service_date.query(f\"OperatorID=={operador}\")\n"
   ]
  },
  {
   "cell_type": "code",
   "execution_count": 44,
   "metadata": {},
   "outputs": [
    {
     "data": {
      "text/plain": [
       "dict_keys([105, 121, 128, 131, 301, 311, 317, 361])"
      ]
     },
     "execution_count": 44,
     "metadata": {},
     "output_type": "execute_result"
    }
   ],
   "source": [
    "operadores.keys()"
   ]
  }
 ],
 "metadata": {
  "kernelspec": {
   "display_name": "Python 3",
   "language": "python",
   "name": "python3"
  },
  "language_info": {
   "codemirror_mode": {
    "name": "ipython",
    "version": 3
   },
   "file_extension": ".py",
   "mimetype": "text/x-python",
   "name": "python",
   "nbconvert_exporter": "python",
   "pygments_lexer": "ipython3",
   "version": "3.8.5"
  }
 },
 "nbformat": 4,
 "nbformat_minor": 4
}

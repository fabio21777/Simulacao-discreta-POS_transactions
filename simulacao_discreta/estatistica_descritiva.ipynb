{
 "cells": [
  {
   "cell_type": "code",
   "execution_count": 1,
   "metadata": {},
   "outputs": [],
   "source": [
    "import numpy as np\n",
    "import pandas as pd\n",
    "import re\n",
    "import collections\n",
    "import operator\n",
    "import simpy\n",
    "import random"
   ]
  },
  {
   "cell_type": "code",
   "execution_count": 2,
   "metadata": {},
   "outputs": [],
   "source": [
    "def estatistica_descritiva(data,campo):\n",
    "    print(f\"{campo} Media :\",data[campo].mean())\n",
    "    print(f\"{campo} Mediana\",data[campo].median())\n",
    "    print(f\"{campo} Moda\",list(data[campo].mode()))\n",
    "    print(f\"{campo} Minimo\",data[campo].min())\n",
    "    print(f\"{campo} Maximo\",data[campo].max())\n",
    "    print(f\"{campo} Amplitude\",data[campo].max()-data[campo].min())\n",
    "    print(f\"{campo} Desvio padrão\",data[campo].std())\n",
    "    print(f\"{campo} Variacia\",data[campo].var())\n",
    "    print(f\"{campo} Coeficinte de variação\",data[campo].std()/data[campo].mean())\n",
    "    print(f\"{campo} Assimetria\",data[campo].skew())"
   ]
  },
  {
   "cell_type": "code",
   "execution_count": 3,
   "metadata": {},
   "outputs": [],
   "source": [
    "def tempo_medio (data,trantime=False,breaktime=False):\n",
    "    \n",
    "    if trantime:\n",
    "        produtos_segundos = 0\n",
    "        for index, trasacao in data.iterrows():\n",
    "            produtos_segundos += trasacao[\"TranTime\"]/trasacao['ArtNum']\n",
    "        media_produtos_segundos = produtos_segundos/len(data.index)\n",
    "        print(media_produtos_segundos)\n",
    "    \n",
    "    elif breaktime:\n",
    "        produtos_segundos = 0\n",
    "        for index, trasacao in data.iterrows():\n",
    "            produtos_segundos += (trasacao[\"BreakTime\"])/trasacao['ArtNum']\n",
    "        media_produtos_segundos=produtos_segundos/len(data.index)\n",
    "        print(media_produtos_segundos)\n",
    "        \n",
    "    else:\n",
    "        produtos_segundos = 0\n",
    "        for index, trasacao in data.iterrows():\n",
    "            produtos_segundos +=np.add(trasacao[\"TranTime\"],trasacao[\"BreakTime\"])/trasacao['ArtNum']\n",
    "        media_produtos_segundos=produtos_segundos/len(data.index)\n",
    "        print(media_produtos_segundos)"
   ]
  },
  {
   "cell_type": "code",
   "execution_count": 4,
   "metadata": {},
   "outputs": [],
   "source": [
    "trasacao = pd.read_csv(\"data/POS_transactions_20190328-20190410.csv\")"
   ]
  },
  {
   "cell_type": "code",
   "execution_count": 5,
   "metadata": {},
   "outputs": [
    {
     "data": {
      "text/plain": [
       "WorkstationGroupID      int64\n",
       "TranID                float64\n",
       "BeginDateTime          object\n",
       "EndDateTime            object\n",
       "OperatorID              int64\n",
       "TranTime                int64\n",
       "BreakTime               int64\n",
       "ArtNum                  int64\n",
       "TNcash                   bool\n",
       "TNcard                   bool\n",
       "Amount                float64\n",
       "dtype: object"
      ]
     },
     "execution_count": 5,
     "metadata": {},
     "output_type": "execute_result"
    }
   ],
   "source": [
    "trasacao.dtypes"
   ]
  },
  {
   "cell_type": "code",
   "execution_count": 6,
   "metadata": {},
   "outputs": [],
   "source": [
    "trasacao_workstation_service = trasacao.query('WorkstationGroupID == 1')"
   ]
  },
  {
   "cell_type": "code",
   "execution_count": 7,
   "metadata": {},
   "outputs": [],
   "source": [
    "trasacao_workstation_service_date = trasacao_workstation_service.loc[trasacao_workstation_service.BeginDateTime.str.contains('2019-04-03T10|2019-04-03T11|2019-04-03T12', flags=re.I, regex=True)]"
   ]
  },
  {
   "cell_type": "markdown",
   "metadata": {},
   "source": [
    "## Removendo as linha com TranTime igual a zero"
   ]
  },
  {
   "cell_type": "code",
   "execution_count": 8,
   "metadata": {},
   "outputs": [],
   "source": [
    "for index, transacao in trasacao_workstation_service_date.iterrows():\n",
    "    if transacao[\"TranTime\"]==0:\n",
    "        trasacao_workstation_service_date=trasacao_workstation_service_date.drop([index])"
   ]
  },
  {
   "cell_type": "markdown",
   "metadata": {},
   "source": [
    "## Estatistica descritiva todas as formas de pagamentos"
   ]
  },
  {
   "cell_type": "markdown",
   "metadata": {},
   "source": [
    "### Estatistica descritiva campo TranTime"
   ]
  },
  {
   "cell_type": "code",
   "execution_count": 9,
   "metadata": {},
   "outputs": [
    {
     "name": "stdout",
     "output_type": "stream",
     "text": [
      "TranTime Media : 50.85490196078431\n",
      "TranTime Mediana 41.0\n",
      "TranTime Moda [26, 31]\n",
      "TranTime Minimo 4\n",
      "TranTime Maximo 309\n",
      "TranTime Amplitude 305\n",
      "TranTime Desvio padrão 40.05392393613791\n",
      "TranTime Variacia 1604.3168226819214\n",
      "TranTime Coeficinte de variação 0.7876118602494732\n",
      "TranTime Assimetria 2.0457119278440214\n"
     ]
    }
   ],
   "source": [
    "estatistica_descritiva(trasacao_workstation_service_date,\"TranTime\")"
   ]
  },
  {
   "cell_type": "markdown",
   "metadata": {},
   "source": [
    "### Estatistica descritiva campo Breaktime"
   ]
  },
  {
   "cell_type": "code",
   "execution_count": 10,
   "metadata": {},
   "outputs": [
    {
     "name": "stdout",
     "output_type": "stream",
     "text": [
      "BreakTime Media : 33.194117647058825\n",
      "BreakTime Mediana 21.0\n",
      "BreakTime Moda [17]\n",
      "BreakTime Minimo 6\n",
      "BreakTime Maximo 1147\n",
      "BreakTime Amplitude 1141\n",
      "BreakTime Desvio padrão 71.33632925114235\n",
      "BreakTime Variacia 5088.871871027388\n",
      "BreakTime Coeficinte de variação 2.149065385910721\n",
      "BreakTime Assimetria 12.041105864454947\n"
     ]
    }
   ],
   "source": [
    "estatistica_descritiva(trasacao_workstation_service_date,\"BreakTime\")\n"
   ]
  },
  {
   "cell_type": "markdown",
   "metadata": {},
   "source": [
    "### Estatistica Descritiva campo numeros de artigos"
   ]
  },
  {
   "cell_type": "code",
   "execution_count": 11,
   "metadata": {},
   "outputs": [
    {
     "name": "stdout",
     "output_type": "stream",
     "text": [
      "ArtNum Media : 15.147058823529411\n",
      "ArtNum Mediana 11.0\n",
      "ArtNum Moda [3]\n",
      "ArtNum Minimo 1\n",
      "ArtNum Maximo 123\n",
      "ArtNum Amplitude 122\n",
      "ArtNum Desvio padrão 14.968990250918493\n",
      "ArtNum Variacia 224.0706691320929\n",
      "ArtNum Coeficinte de variação 0.9882440165654928\n",
      "ArtNum Assimetria 2.6869050219189594\n"
     ]
    }
   ],
   "source": [
    "estatistica_descritiva(trasacao_workstation_service_date,\"ArtNum\")"
   ]
  },
  {
   "cell_type": "markdown",
   "metadata": {},
   "source": [
    "### Estatistica Descritiva campo TNcash e TNcard"
   ]
  },
  {
   "cell_type": "code",
   "execution_count": 12,
   "metadata": {},
   "outputs": [
    {
     "data": {
      "text/plain": [
       "count      510\n",
       "unique       2\n",
       "top       True\n",
       "freq       335\n",
       "Name: TNcash, dtype: object"
      ]
     },
     "execution_count": 12,
     "metadata": {},
     "output_type": "execute_result"
    }
   ],
   "source": [
    "trasacao_workstation_service_date[\"TNcash\"].describe()"
   ]
  },
  {
   "cell_type": "markdown",
   "metadata": {},
   "source": [
    "### Calculando o tempo medio de item por segundo\n",
    "\n"
   ]
  },
  {
   "cell_type": "code",
   "execution_count": 13,
   "metadata": {},
   "outputs": [
    {
     "name": "stdout",
     "output_type": "stream",
     "text": [
      "9.205502027971132\n"
     ]
    }
   ],
   "source": [
    "tempo_medio(trasacao_workstation_service_date)"
   ]
  },
  {
   "cell_type": "markdown",
   "metadata": {},
   "source": [
    "###  Calculando o tempo medio de item por segundo considerando somente o tempo de trasação"
   ]
  },
  {
   "cell_type": "code",
   "execution_count": 14,
   "metadata": {},
   "outputs": [
    {
     "name": "stdout",
     "output_type": "stream",
     "text": [
      "4.669640765279946\n"
     ]
    }
   ],
   "source": [
    "tempo_medio(trasacao_workstation_service_date,trantime=True)"
   ]
  },
  {
   "cell_type": "markdown",
   "metadata": {},
   "source": [
    "###  Calculando o tempo medio de item por segundo considerando somente o tempo de empacotamento"
   ]
  },
  {
   "cell_type": "code",
   "execution_count": 15,
   "metadata": {},
   "outputs": [
    {
     "name": "stdout",
     "output_type": "stream",
     "text": [
      "4.53586126269119\n"
     ]
    }
   ],
   "source": [
    "tempo_medio(trasacao_workstation_service_date,breaktime=True)"
   ]
  },
  {
   "cell_type": "markdown",
   "metadata": {},
   "source": [
    "## Estatistica descritiva considerando apenas compras no dinheiro\n"
   ]
  },
  {
   "cell_type": "code",
   "execution_count": 16,
   "metadata": {},
   "outputs": [],
   "source": [
    "trasacao_workstation_service_date_tncash = trasacao_workstation_service_date.query('TNcash == True')"
   ]
  },
  {
   "cell_type": "markdown",
   "metadata": {},
   "source": [
    "### Estatistica descritiva campo TranTime"
   ]
  },
  {
   "cell_type": "code",
   "execution_count": 17,
   "metadata": {},
   "outputs": [
    {
     "name": "stdout",
     "output_type": "stream",
     "text": [
      "TranTime Media : 44.208955223880594\n",
      "TranTime Mediana 35.0\n",
      "TranTime Moda [11, 26, 28]\n",
      "TranTime Minimo 4\n",
      "TranTime Maximo 309\n",
      "TranTime Amplitude 305\n",
      "TranTime Desvio padrão 37.53096019896204\n",
      "TranTime Variacia 1408.572973456073\n",
      "TranTime Coeficinte de variação 0.8489447445410051\n",
      "TranTime Assimetria 2.6301824423971367\n"
     ]
    }
   ],
   "source": [
    "estatistica_descritiva(trasacao_workstation_service_date_tncash,\"TranTime\")"
   ]
  },
  {
   "cell_type": "markdown",
   "metadata": {},
   "source": [
    "### Estatistica descritiva campo BreakTime"
   ]
  },
  {
   "cell_type": "code",
   "execution_count": 18,
   "metadata": {},
   "outputs": [
    {
     "name": "stdout",
     "output_type": "stream",
     "text": [
      "BreakTime Media : 33.56417910447761\n",
      "BreakTime Mediana 22.0\n",
      "BreakTime Moda [17, 19]\n",
      "BreakTime Minimo 8\n",
      "BreakTime Maximo 940\n",
      "BreakTime Amplitude 932\n",
      "BreakTime Desvio padrão 57.94443885705378\n",
      "BreakTime Variacia 3357.557994458844\n",
      "BreakTime Coeficinte de variação 1.7263773583344912\n",
      "BreakTime Assimetria 12.235668470386164\n"
     ]
    }
   ],
   "source": [
    "estatistica_descritiva(trasacao_workstation_service_date_tncash,\"BreakTime\")"
   ]
  },
  {
   "cell_type": "markdown",
   "metadata": {},
   "source": [
    "### Estatistica descritiva campo ArtNum"
   ]
  },
  {
   "cell_type": "code",
   "execution_count": 19,
   "metadata": {},
   "outputs": [
    {
     "name": "stdout",
     "output_type": "stream",
     "text": [
      "ArtNum Media : 13.170149253731344\n",
      "ArtNum Mediana 10.0\n",
      "ArtNum Moda [3]\n",
      "ArtNum Minimo 1\n",
      "ArtNum Maximo 123\n",
      "ArtNum Amplitude 122\n",
      "ArtNum Desvio padrão 13.458663871692076\n",
      "ArtNum Variacia 181.13563321118957\n",
      "ArtNum Coeficinte de variação 1.0219067082993756\n",
      "ArtNum Assimetria 3.526173671756291\n"
     ]
    }
   ],
   "source": [
    "estatistica_descritiva(trasacao_workstation_service_date_tncash,\"ArtNum\")"
   ]
  },
  {
   "cell_type": "markdown",
   "metadata": {},
   "source": [
    "### Calculando o tempo medio de item por segundo"
   ]
  },
  {
   "cell_type": "code",
   "execution_count": 20,
   "metadata": {},
   "outputs": [
    {
     "name": "stdout",
     "output_type": "stream",
     "text": [
      "9.980679204243227\n"
     ]
    }
   ],
   "source": [
    "tempo_medio(trasacao_workstation_service_date_tncash)"
   ]
  },
  {
   "cell_type": "markdown",
   "metadata": {},
   "source": [
    "###  Calculando o tempo medio de item por segundo considerando somente o tempo de trasação"
   ]
  },
  {
   "cell_type": "code",
   "execution_count": 21,
   "metadata": {},
   "outputs": [
    {
     "name": "stdout",
     "output_type": "stream",
     "text": [
      "4.537310756315868\n"
     ]
    }
   ],
   "source": [
    "tempo_medio(trasacao_workstation_service_date_tncash,trantime=True)"
   ]
  },
  {
   "cell_type": "markdown",
   "metadata": {},
   "source": [
    "###  Calculando o tempo medio de item por segundo considerando somente o tempo de empacotamento"
   ]
  },
  {
   "cell_type": "code",
   "execution_count": 22,
   "metadata": {},
   "outputs": [
    {
     "name": "stdout",
     "output_type": "stream",
     "text": [
      "5.4433684479273605\n"
     ]
    }
   ],
   "source": [
    "tempo_medio(trasacao_workstation_service_date_tncash,breaktime=True)"
   ]
  },
  {
   "cell_type": "markdown",
   "metadata": {},
   "source": [
    "## Estatistica descritiva considerando apenas no cartão de credito"
   ]
  },
  {
   "cell_type": "code",
   "execution_count": 23,
   "metadata": {},
   "outputs": [],
   "source": [
    "trasacao_workstation_service_date_tncard = trasacao_workstation_service_date.query('TNcard == True')"
   ]
  },
  {
   "cell_type": "markdown",
   "metadata": {},
   "source": [
    "### Estatistica descritiva campo TranTime"
   ]
  },
  {
   "cell_type": "code",
   "execution_count": 24,
   "metadata": {},
   "outputs": [
    {
     "name": "stdout",
     "output_type": "stream",
     "text": [
      "TranTime Media : 64.33714285714285\n",
      "TranTime Mediana 52.0\n",
      "TranTime Moda [31]\n",
      "TranTime Minimo 13\n",
      "TranTime Maximo 251\n",
      "TranTime Amplitude 238\n",
      "TranTime Desvio padrão 41.99487575277451\n",
      "TranTime Variacia 1763.5695894909684\n",
      "TranTime Coeficinte de variação 0.6527314376708002\n",
      "TranTime Assimetria 1.3877977720260803\n"
     ]
    }
   ],
   "source": [
    "estatistica_descritiva(trasacao_workstation_service_date_tncard,\"TranTime\")"
   ]
  },
  {
   "cell_type": "markdown",
   "metadata": {},
   "source": [
    "### Estatistica descritiva campo BreakTime"
   ]
  },
  {
   "cell_type": "code",
   "execution_count": 25,
   "metadata": {},
   "outputs": [
    {
     "name": "stdout",
     "output_type": "stream",
     "text": [
      "BreakTime Media : 32.48\n",
      "BreakTime Mediana 16.0\n",
      "BreakTime Moda [14]\n",
      "BreakTime Minimo 6\n",
      "BreakTime Maximo 1147\n",
      "BreakTime Amplitude 1141\n",
      "BreakTime Desvio padrão 91.86445787511977\n",
      "BreakTime Variacia 8439.078620689656\n",
      "BreakTime Coeficinte de variação 2.828339220293097\n",
      "BreakTime Assimetria 10.706897789257468\n"
     ]
    }
   ],
   "source": [
    "estatistica_descritiva(trasacao_workstation_service_date_tncard,\"BreakTime\")"
   ]
  },
  {
   "cell_type": "markdown",
   "metadata": {},
   "source": [
    "### Estatistica descritiva campo ArtNum"
   ]
  },
  {
   "cell_type": "code",
   "execution_count": 26,
   "metadata": {},
   "outputs": [
    {
     "name": "stdout",
     "output_type": "stream",
     "text": [
      "ArtNum Media : 18.925714285714285\n",
      "ArtNum Mediana 13.0\n",
      "ArtNum Moda [3]\n",
      "ArtNum Minimo 1\n",
      "ArtNum Maximo 98\n",
      "ArtNum Amplitude 97\n",
      "ArtNum Desvio padrão 17.01622523306112\n",
      "ArtNum Variacia 289.55192118226597\n",
      "ArtNum Coeficinte de variação 0.8991061038000291\n",
      "ArtNum Assimetria 1.7948384626166136\n"
     ]
    }
   ],
   "source": [
    "estatistica_descritiva(trasacao_workstation_service_date_tncard,\"ArtNum\")"
   ]
  },
  {
   "cell_type": "markdown",
   "metadata": {},
   "source": [
    "### Calculando o tempo medio de item por segundo"
   ]
  },
  {
   "cell_type": "code",
   "execution_count": 27,
   "metadata": {},
   "outputs": [
    {
     "name": "stdout",
     "output_type": "stream",
     "text": [
      "7.877840225663656\n"
     ]
    }
   ],
   "source": [
    "tempo_medio(trasacao_workstation_service_date_tncard)"
   ]
  },
  {
   "cell_type": "markdown",
   "metadata": {},
   "source": [
    "### Calculando o tempo medio de item por transação"
   ]
  },
  {
   "cell_type": "code",
   "execution_count": 28,
   "metadata": {},
   "outputs": [
    {
     "name": "stdout",
     "output_type": "stream",
     "text": [
      "5.0663667686371365\n"
     ]
    }
   ],
   "source": [
    "tempo_medio(trasacao_workstation_service_date_tncard,trantime=True)"
   ]
  },
  {
   "cell_type": "markdown",
   "metadata": {},
   "source": [
    "### Calculando o tempo medio item por tempo de empacotamento"
   ]
  },
  {
   "cell_type": "code",
   "execution_count": 29,
   "metadata": {},
   "outputs": [
    {
     "name": "stdout",
     "output_type": "stream",
     "text": [
      "2.8114734570265214\n"
     ]
    }
   ],
   "source": [
    "tempo_medio(trasacao_workstation_service_date_tncard,breaktime=True)"
   ]
  },
  {
   "cell_type": "code",
   "execution_count": null,
   "metadata": {},
   "outputs": [],
   "source": []
  },
  {
   "cell_type": "code",
   "execution_count": null,
   "metadata": {},
   "outputs": [],
   "source": []
  },
  {
   "cell_type": "code",
   "execution_count": null,
   "metadata": {},
   "outputs": [],
   "source": []
  },
  {
   "cell_type": "code",
   "execution_count": null,
   "metadata": {},
   "outputs": [],
   "source": []
  },
  {
   "cell_type": "code",
   "execution_count": null,
   "metadata": {},
   "outputs": [],
   "source": []
  },
  {
   "cell_type": "code",
   "execution_count": null,
   "metadata": {},
   "outputs": [],
   "source": []
  },
  {
   "cell_type": "code",
   "execution_count": null,
   "metadata": {},
   "outputs": [],
   "source": []
  },
  {
   "cell_type": "code",
   "execution_count": null,
   "metadata": {},
   "outputs": [],
   "source": []
  },
  {
   "cell_type": "code",
   "execution_count": 30,
   "metadata": {},
   "outputs": [],
   "source": [
    "frequencia = collections.Counter(trasacao_workstation_service_date[\"ArtNum\"])"
   ]
  },
  {
   "cell_type": "code",
   "execution_count": 31,
   "metadata": {},
   "outputs": [],
   "source": [
    "frequencia_ordenada = sorted(frequencia.items(), key=operator.itemgetter(1), reverse=True)"
   ]
  },
  {
   "cell_type": "code",
   "execution_count": 32,
   "metadata": {},
   "outputs": [],
   "source": [
    "frequencia_porcentagem = {}"
   ]
  },
  {
   "cell_type": "code",
   "execution_count": 33,
   "metadata": {},
   "outputs": [],
   "source": [
    "frequencia_f = []\n",
    "for frequencia in frequencia_ordenada:\n",
    "    porcentagem = (frequencia[1]/len(trasacao_workstation_service_date.index))*100\n",
    "    frequencia_f.append((frequencia[0],porcentagem))\n"
   ]
  },
  {
   "cell_type": "code",
   "execution_count": 34,
   "metadata": {},
   "outputs": [],
   "source": [
    "frequencia_dividida_tamanho = {\"qtd_pequena\": [], \"qtd_media\": [], \"qtd_grande\": []}\n",
    "soma_frequencia_pequena = 0\n",
    "soma_frequencia_media = 0\n",
    "soma_frequencia_grande = 0\n",
    "for frequencia in frequencia_f:\n",
    "    if frequencia[0] <= 10 :\n",
    "        frequencia_dividida_tamanho[\"qtd_pequena\"].append(frequencia[0])\n",
    "        soma_frequencia_pequena += frequencia[1] \n",
    "    elif (frequencia[0] > 10) & (frequencia[0]<=30):\n",
    "        frequencia_dividida_tamanho[\"qtd_media\"].append(frequencia[0])\n",
    "        soma_frequencia_media += frequencia[1]\n",
    "    else :\n",
    "        frequencia_dividida_tamanho[\"qtd_grande\"].append(frequencia[0])\n",
    "        soma_frequencia_grande += frequencia[1]\n",
    "frequencia_dividida_tamanho[\"qtd_pequena\"] = (soma_frequencia_pequena)\n",
    "frequencia_dividida_tamanho[\"qtd_media\"] = (soma_frequencia_media)\n",
    "frequencia_dividida_tamanho[\"qtd_grande\"] = (frequencia_dividida_tamanho[\"qtd_grande\"],soma_frequencia_grande)"
   ]
  },
  {
   "cell_type": "code",
   "execution_count": 35,
   "metadata": {},
   "outputs": [
    {
     "data": {
      "text/plain": [
       "49.2156862745098"
      ]
     },
     "execution_count": 35,
     "metadata": {},
     "output_type": "execute_result"
    }
   ],
   "source": [
    "frequencia_dividida_tamanho[\"qtd_pequena\"]"
   ]
  },
  {
   "cell_type": "code",
   "execution_count": 36,
   "metadata": {},
   "outputs": [
    {
     "data": {
      "text/plain": [
       "39.607843137254896"
      ]
     },
     "execution_count": 36,
     "metadata": {},
     "output_type": "execute_result"
    }
   ],
   "source": [
    "frequencia_dividida_tamanho[\"qtd_media\"]"
   ]
  },
  {
   "cell_type": "code",
   "execution_count": 37,
   "metadata": {},
   "outputs": [
    {
     "data": {
      "text/plain": [
       "([37,\n",
       "  42,\n",
       "  31,\n",
       "  40,\n",
       "  48,\n",
       "  33,\n",
       "  41,\n",
       "  44,\n",
       "  39,\n",
       "  35,\n",
       "  34,\n",
       "  38,\n",
       "  36,\n",
       "  47,\n",
       "  62,\n",
       "  58,\n",
       "  67,\n",
       "  59,\n",
       "  32,\n",
       "  98,\n",
       "  82,\n",
       "  45,\n",
       "  123,\n",
       "  53,\n",
       "  87,\n",
       "  49,\n",
       "  76,\n",
       "  51,\n",
       "  46,\n",
       "  64,\n",
       "  70,\n",
       "  72,\n",
       "  84],\n",
       " 11.176470588235286)"
      ]
     },
     "execution_count": 37,
     "metadata": {},
     "output_type": "execute_result"
    }
   ],
   "source": [
    "frequencia_dividida_tamanho[\"qtd_grande\"]"
   ]
  },
  {
   "cell_type": "markdown",
   "metadata": {},
   "source": [
    "## Calculando o tempo medio de item por segundo"
   ]
  },
  {
   "cell_type": "code",
   "execution_count": null,
   "metadata": {},
   "outputs": [],
   "source": [
    "OperatorIDs=trasacao_workstation_service_date[['OperatorID']]"
   ]
  },
  {
   "cell_type": "code",
   "execution_count": null,
   "metadata": {},
   "outputs": [],
   "source": [
    "operadores_unicos = OperatorIDs.drop_duplicates()\n",
    "operadores_list = operadores_unicos.values"
   ]
  },
  {
   "cell_type": "code",
   "execution_count": null,
   "metadata": {},
   "outputs": [],
   "source": [
    "operadores = {}\n",
    "for operador in operadores_list:\n",
    "    operadores[int(operador)] = trasacao_workstation_service_date.query(f\"OperatorID=={operador}\")\n"
   ]
  },
  {
   "cell_type": "code",
   "execution_count": null,
   "metadata": {},
   "outputs": [],
   "source": [
    "operadores.keys()"
   ]
  }
 ],
 "metadata": {
  "kernelspec": {
   "display_name": "Python 3",
   "language": "python",
   "name": "python3"
  },
  "language_info": {
   "codemirror_mode": {
    "name": "ipython",
    "version": 3
   },
   "file_extension": ".py",
   "mimetype": "text/x-python",
   "name": "python",
   "nbconvert_exporter": "python",
   "pygments_lexer": "ipython3",
   "version": "3.8.5"
  }
 },
 "nbformat": 4,
 "nbformat_minor": 4
}

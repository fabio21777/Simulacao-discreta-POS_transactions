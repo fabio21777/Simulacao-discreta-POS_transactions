{
 "cells": [
  {
   "cell_type": "code",
   "execution_count": 32,
   "metadata": {},
   "outputs": [
    {
     "ename": "ModuleNotFoundError",
     "evalue": "No module named 'simpy'",
     "output_type": "error",
     "traceback": [
      "\u001b[1;31m---------------------------------------------------------------------------\u001b[0m",
      "\u001b[1;31mModuleNotFoundError\u001b[0m                       Traceback (most recent call last)",
      "\u001b[1;32m<ipython-input-32-94910e69b8ca>\u001b[0m in \u001b[0;36m<module>\u001b[1;34m\u001b[0m\n\u001b[0;32m      4\u001b[0m \u001b[1;32mimport\u001b[0m \u001b[0mcollections\u001b[0m\u001b[1;33m\u001b[0m\u001b[1;33m\u001b[0m\u001b[0m\n\u001b[0;32m      5\u001b[0m \u001b[1;32mimport\u001b[0m \u001b[0moperator\u001b[0m\u001b[1;33m\u001b[0m\u001b[1;33m\u001b[0m\u001b[0m\n\u001b[1;32m----> 6\u001b[1;33m \u001b[1;32mimport\u001b[0m \u001b[0msimpy\u001b[0m\u001b[1;33m\u001b[0m\u001b[1;33m\u001b[0m\u001b[0m\n\u001b[0m",
      "\u001b[1;31mModuleNotFoundError\u001b[0m: No module named 'simpy'"
     ]
    }
   ],
   "source": [
    "import numpy as np\n",
    "import pandas as pd\n",
    "import re\n",
    "import collections\n",
    "import operator\n",
    "import simpy"
   ]
  },
  {
   "cell_type": "code",
   "execution_count": 2,
   "metadata": {},
   "outputs": [],
   "source": [
    "trasacao = pd.read_csv(\"data/POS_transactions_20190328-20190410.csv\")"
   ]
  },
  {
   "cell_type": "code",
   "execution_count": 3,
   "metadata": {},
   "outputs": [
    {
     "data": {
      "text/html": [
       "<div>\n",
       "<style scoped>\n",
       "    .dataframe tbody tr th:only-of-type {\n",
       "        vertical-align: middle;\n",
       "    }\n",
       "\n",
       "    .dataframe tbody tr th {\n",
       "        vertical-align: top;\n",
       "    }\n",
       "\n",
       "    .dataframe thead th {\n",
       "        text-align: right;\n",
       "    }\n",
       "</style>\n",
       "<table border=\"1\" class=\"dataframe\">\n",
       "  <thead>\n",
       "    <tr style=\"text-align: right;\">\n",
       "      <th></th>\n",
       "      <th>WorkstationGroupID</th>\n",
       "      <th>TranID</th>\n",
       "      <th>BeginDateTime</th>\n",
       "      <th>EndDateTime</th>\n",
       "      <th>OperatorID</th>\n",
       "      <th>TranTime</th>\n",
       "      <th>BreakTime</th>\n",
       "      <th>ArtNum</th>\n",
       "      <th>TNcash</th>\n",
       "      <th>TNcard</th>\n",
       "      <th>Amount</th>\n",
       "    </tr>\n",
       "  </thead>\n",
       "  <tbody>\n",
       "    <tr>\n",
       "      <th>0</th>\n",
       "      <td>1</td>\n",
       "      <td>1.904031e+13</td>\n",
       "      <td>2019-04-03T13:28:17</td>\n",
       "      <td>2019-04-03T13:28:17</td>\n",
       "      <td>10</td>\n",
       "      <td>0</td>\n",
       "      <td>1</td>\n",
       "      <td>1</td>\n",
       "      <td>False</td>\n",
       "      <td>False</td>\n",
       "      <td>11.99</td>\n",
       "    </tr>\n",
       "    <tr>\n",
       "      <th>1</th>\n",
       "      <td>1</td>\n",
       "      <td>1.903291e+13</td>\n",
       "      <td>2019-03-29T14:04:50</td>\n",
       "      <td>2019-03-29T14:05:31</td>\n",
       "      <td>101</td>\n",
       "      <td>41</td>\n",
       "      <td>21</td>\n",
       "      <td>6</td>\n",
       "      <td>True</td>\n",
       "      <td>False</td>\n",
       "      <td>13.74</td>\n",
       "    </tr>\n",
       "    <tr>\n",
       "      <th>2</th>\n",
       "      <td>1</td>\n",
       "      <td>1.903291e+13</td>\n",
       "      <td>2019-03-29T14:05:52</td>\n",
       "      <td>2019-03-29T14:06:35</td>\n",
       "      <td>101</td>\n",
       "      <td>43</td>\n",
       "      <td>44</td>\n",
       "      <td>12</td>\n",
       "      <td>True</td>\n",
       "      <td>False</td>\n",
       "      <td>97.47</td>\n",
       "    </tr>\n",
       "    <tr>\n",
       "      <th>3</th>\n",
       "      <td>1</td>\n",
       "      <td>1.903291e+13</td>\n",
       "      <td>2019-03-29T14:07:19</td>\n",
       "      <td>2019-03-29T14:07:43</td>\n",
       "      <td>101</td>\n",
       "      <td>24</td>\n",
       "      <td>25</td>\n",
       "      <td>6</td>\n",
       "      <td>False</td>\n",
       "      <td>True</td>\n",
       "      <td>37.18</td>\n",
       "    </tr>\n",
       "    <tr>\n",
       "      <th>4</th>\n",
       "      <td>1</td>\n",
       "      <td>1.903291e+13</td>\n",
       "      <td>2019-03-29T14:08:08</td>\n",
       "      <td>2019-03-29T14:09:44</td>\n",
       "      <td>101</td>\n",
       "      <td>96</td>\n",
       "      <td>18</td>\n",
       "      <td>48</td>\n",
       "      <td>True</td>\n",
       "      <td>False</td>\n",
       "      <td>154.70</td>\n",
       "    </tr>\n",
       "  </tbody>\n",
       "</table>\n",
       "</div>"
      ],
      "text/plain": [
       "   WorkstationGroupID        TranID        BeginDateTime          EndDateTime  \\\n",
       "0                   1  1.904031e+13  2019-04-03T13:28:17  2019-04-03T13:28:17   \n",
       "1                   1  1.903291e+13  2019-03-29T14:04:50  2019-03-29T14:05:31   \n",
       "2                   1  1.903291e+13  2019-03-29T14:05:52  2019-03-29T14:06:35   \n",
       "3                   1  1.903291e+13  2019-03-29T14:07:19  2019-03-29T14:07:43   \n",
       "4                   1  1.903291e+13  2019-03-29T14:08:08  2019-03-29T14:09:44   \n",
       "\n",
       "   OperatorID  TranTime  BreakTime  ArtNum  TNcash  TNcard  Amount  \n",
       "0          10         0          1       1   False   False   11.99  \n",
       "1         101        41         21       6    True   False   13.74  \n",
       "2         101        43         44      12    True   False   97.47  \n",
       "3         101        24         25       6   False    True   37.18  \n",
       "4         101        96         18      48    True   False  154.70  "
      ]
     },
     "execution_count": 3,
     "metadata": {},
     "output_type": "execute_result"
    }
   ],
   "source": [
    "trasacao.head()"
   ]
  },
  {
   "cell_type": "code",
   "execution_count": 4,
   "metadata": {},
   "outputs": [
    {
     "data": {
      "text/plain": [
       "WorkstationGroupID      int64\n",
       "TranID                float64\n",
       "BeginDateTime          object\n",
       "EndDateTime            object\n",
       "OperatorID              int64\n",
       "TranTime                int64\n",
       "BreakTime               int64\n",
       "ArtNum                  int64\n",
       "TNcash                   bool\n",
       "TNcard                   bool\n",
       "Amount                float64\n",
       "dtype: object"
      ]
     },
     "execution_count": 4,
     "metadata": {},
     "output_type": "execute_result"
    }
   ],
   "source": [
    "trasacao.dtypes"
   ]
  },
  {
   "cell_type": "code",
   "execution_count": 5,
   "metadata": {},
   "outputs": [],
   "source": [
    "trasacao_workstation_service = trasacao.query('WorkstationGroupID == 1')"
   ]
  },
  {
   "cell_type": "code",
   "execution_count": 6,
   "metadata": {},
   "outputs": [],
   "source": [
    "trasacao_workstation_service_date = trasacao_workstation_service.loc[trasacao_workstation_service.BeginDateTime.str.contains('2019-04-03T10|2019-04-03T11|2019-04-03T12', flags=re.I, regex=True)]"
   ]
  },
  {
   "cell_type": "markdown",
   "metadata": {},
   "source": [
    "## Estatistica descritiva campo TranTime"
   ]
  },
  {
   "cell_type": "code",
   "execution_count": 7,
   "metadata": {},
   "outputs": [
    {
     "name": "stdout",
     "output_type": "stream",
     "text": [
      "media 50.55750487329435\n",
      "mediana 41.0\n",
      "Moda [26, 31]\n",
      "minimo 0\n",
      "maximo 309\n",
      "amplitude 309\n",
      "desvio padrão 40.12457538731323\n",
      "variacia 1609.9815500121827\n",
      "coeficinte de variação 0.7936423185414746\n",
      "Assimetria 2.0333015820729505\n"
     ]
    }
   ],
   "source": [
    "print(\"media\",trasacao_workstation_service_date[\"TranTime\"].mean())\n",
    "print(\"mediana\",trasacao_workstation_service_date[\"TranTime\"].median())\n",
    "print(\"Moda\",list(trasacao_workstation_service_date[\"TranTime\"].mode()))\n",
    "print(\"minimo\",trasacao_workstation_service_date[\"TranTime\"].min())\n",
    "print(\"maximo\",trasacao_workstation_service_date[\"TranTime\"].max())\n",
    "print(\"amplitude\",trasacao_workstation_service_date[\"TranTime\"].max()-trasacao_workstation_service_date[\"TranTime\"].min())\n",
    "print(\"desvio padrão\",trasacao_workstation_service_date[\"TranTime\"].std())\n",
    "print(\"variacia\",trasacao_workstation_service_date[\"TranTime\"].var())\n",
    "print(\"coeficinte de variação\",trasacao_workstation_service_date[\"TranTime\"].std()/trasacao_workstation_service_date[\"TranTime\"].mean())\n",
    "print(\"Assimetria\",trasacao_workstation_service_date[\"TranTime\"].skew())"
   ]
  },
  {
   "cell_type": "markdown",
   "metadata": {},
   "source": [
    "## Estatistica descritiva campo Breaktime"
   ]
  },
  {
   "cell_type": "code",
   "execution_count": 8,
   "metadata": {},
   "outputs": [
    {
     "name": "stdout",
     "output_type": "stream",
     "text": [
      "media 33.44054580896686\n",
      "mediana 21.0\n",
      "Moda [17]\n",
      "minimo 6\n",
      "maximo 1147\n",
      "amplitude 1147\n",
      "desvio padrão 71.21608892361684\n",
      "variacia 5071.731321576502\n",
      "coeficinte de variação 1.4086155774913416\n",
      "Assimetria 12.022677107628233\n"
     ]
    }
   ],
   "source": [
    "print(\"media\",trasacao_workstation_service_date[\"BreakTime\"].mean())\n",
    "print(\"mediana\",trasacao_workstation_service_date[\"BreakTime\"].median())\n",
    "print(\"Moda\",list(trasacao_workstation_service_date[\"BreakTime\"].mode()))\n",
    "print(\"minimo\",trasacao_workstation_service_date[\"BreakTime\"].min())\n",
    "print(\"maximo\",trasacao_workstation_service_date[\"BreakTime\"].max())\n",
    "print(\"amplitude\",trasacao_workstation_service_date[\"BreakTime\"].max()-trasacao_workstation_service_date[\"TranTime\"].min())\n",
    "print(\"desvio padrão\",trasacao_workstation_service_date[\"BreakTime\"].std())\n",
    "print(\"variacia\",trasacao_workstation_service_date[\"BreakTime\"].var())\n",
    "print(\"coeficinte de variação\",trasacao_workstation_service_date[\"BreakTime\"].std()/trasacao_workstation_service_date[\"TranTime\"].mean())\n",
    "print(\"Assimetria\",trasacao_workstation_service_date[\"BreakTime\"].skew())"
   ]
  },
  {
   "cell_type": "markdown",
   "metadata": {},
   "source": [
    "## Estatistica Descritiva campo numeros de artigos"
   ]
  },
  {
   "cell_type": "code",
   "execution_count": 9,
   "metadata": {},
   "outputs": [
    {
     "name": "stdout",
     "output_type": "stream",
     "text": [
      "media 15.19103313840156\n",
      "mediana 11.0\n",
      "Moda [3]\n",
      "minimo 1\n",
      "maximo 123\n",
      "amplitude 123\n",
      "desvio padrão 14.937191337843698\n",
      "variacia 223.1196850633528\n",
      "coeficinte de variação 0.2954495356382564\n",
      "Assimetria 2.6803168909075863\n"
     ]
    }
   ],
   "source": [
    "print(\"media\",trasacao_workstation_service_date[\"ArtNum\"].mean())\n",
    "print(\"mediana\",trasacao_workstation_service_date[\"ArtNum\"].median())\n",
    "print(\"Moda\",list(trasacao_workstation_service_date[\"ArtNum\"].mode()))\n",
    "print(\"minimo\",trasacao_workstation_service_date[\"ArtNum\"].min())\n",
    "print(\"maximo\",trasacao_workstation_service_date[\"ArtNum\"].max())\n",
    "print(\"amplitude\",trasacao_workstation_service_date[\"ArtNum\"].max()-trasacao_workstation_service_date[\"TranTime\"].min())\n",
    "print(\"desvio padrão\",trasacao_workstation_service_date[\"ArtNum\"].std())\n",
    "print(\"variacia\",trasacao_workstation_service_date[\"ArtNum\"].var())\n",
    "print(\"coeficinte de variação\",trasacao_workstation_service_date[\"ArtNum\"].std()/trasacao_workstation_service_date[\"TranTime\"].mean())\n",
    "print(\"Assimetria\",trasacao_workstation_service_date[\"ArtNum\"].skew())"
   ]
  },
  {
   "cell_type": "markdown",
   "metadata": {},
   "source": [
    "## Estatistica Descritiva campo TNcash e TNcard"
   ]
  },
  {
   "cell_type": "code",
   "execution_count": 10,
   "metadata": {},
   "outputs": [
    {
     "data": {
      "text/plain": [
       "count      513\n",
       "unique       2\n",
       "top       True\n",
       "freq       335\n",
       "Name: TNcash, dtype: object"
      ]
     },
     "execution_count": 10,
     "metadata": {},
     "output_type": "execute_result"
    }
   ],
   "source": [
    "trasacao_workstation_service_date[\"TNcash\"].describe()"
   ]
  },
  {
   "cell_type": "code",
   "execution_count": 30,
   "metadata": {},
   "outputs": [],
   "source": [
    "frequencia=collections.Counter(trasacao_workstation_service_date[\"ArtNum\"])"
   ]
  },
  {
   "cell_type": "code",
   "execution_count": 29,
   "metadata": {},
   "outputs": [],
   "source": [
    "frequencia_ordenada=sorted(frequencia.items(), key=operator.itemgetter(1),reverse=True)"
   ]
  },
  {
   "cell_type": "code",
   "execution_count": 31,
   "metadata": {},
   "outputs": [
    {
     "data": {
      "text/plain": [
       "[(3, 36),\n",
       " (4, 34),\n",
       " (8, 30),\n",
       " (6, 30),\n",
       " (7, 26),\n",
       " (12, 25),\n",
       " (10, 25),\n",
       " (9, 22),\n",
       " (5, 21),\n",
       " (11, 20),\n",
       " (13, 19),\n",
       " (20, 16),\n",
       " (2, 14),\n",
       " (15, 14),\n",
       " (14, 14),\n",
       " (16, 13),\n",
       " (1, 13),\n",
       " (21, 12),\n",
       " (17, 12),\n",
       " (19, 10),\n",
       " (26, 9),\n",
       " (22, 8),\n",
       " (24, 7),\n",
       " (30, 6),\n",
       " (18, 5),\n",
       " (27, 5),\n",
       " (23, 4),\n",
       " (37, 4),\n",
       " (42, 4),\n",
       " (31, 4),\n",
       " (40, 3),\n",
       " (25, 3),\n",
       " (48, 3),\n",
       " (33, 3),\n",
       " (41, 2),\n",
       " (44, 2),\n",
       " (39, 2),\n",
       " (35, 2),\n",
       " (34, 2),\n",
       " (38, 2),\n",
       " (28, 2),\n",
       " (36, 2),\n",
       " (47, 2),\n",
       " (62, 2),\n",
       " (58, 1),\n",
       " (67, 1),\n",
       " (59, 1),\n",
       " (32, 1),\n",
       " (98, 1),\n",
       " (82, 1),\n",
       " (45, 1),\n",
       " (123, 1),\n",
       " (53, 1),\n",
       " (29, 1),\n",
       " (87, 1),\n",
       " (49, 1),\n",
       " (76, 1),\n",
       " (51, 1),\n",
       " (46, 1),\n",
       " (64, 1),\n",
       " (70, 1),\n",
       " (72, 1),\n",
       " (84, 1)]"
      ]
     },
     "execution_count": 31,
     "metadata": {},
     "output_type": "execute_result"
    }
   ],
   "source": [
    "frequencia_ordenada"
   ]
  },
  {
   "cell_type": "code",
   "execution_count": 13,
   "metadata": {},
   "outputs": [],
   "source": [
    "t=trasacao_workstation_service_date.head()"
   ]
  },
  {
   "cell_type": "markdown",
   "metadata": {},
   "source": [
    "## Calculando o tempo medio de item por segundo"
   ]
  },
  {
   "cell_type": "code",
   "execution_count": 26,
   "metadata": {},
   "outputs": [],
   "source": [
    "\n",
    "produtos_segundos = 0\n",
    "for index, trasacao in trasacao_workstation_service_date.iterrows():\n",
    "    produtos_segundos += trasacao['ArtNum']/np.add(trasacao[\"TranTime\"],trasacao[\"BreakTime\"])\n",
    "media_produtos_segundos=len(trasacao_workstation_service_date.index)/produtos_segundos"
   ]
  },
  {
   "cell_type": "code",
   "execution_count": 27,
   "metadata": {},
   "outputs": [
    {
     "data": {
      "text/plain": [
       "5.475793093049854"
      ]
     },
     "execution_count": 27,
     "metadata": {},
     "output_type": "execute_result"
    }
   ],
   "source": [
    "media_produtos_segundos"
   ]
  },
  {
   "cell_type": "code",
   "execution_count": null,
   "metadata": {},
   "outputs": [],
   "source": []
  },
  {
   "cell_type": "code",
   "execution_count": 16,
   "metadata": {},
   "outputs": [],
   "source": [
    "OperatorIDs=trasacao_workstation_service_date[['OperatorID']]"
   ]
  },
  {
   "cell_type": "code",
   "execution_count": 17,
   "metadata": {},
   "outputs": [],
   "source": [
    "operadores_unicos = OperatorIDs.drop_duplicates()\n",
    "operadores_list = operadores_unicos.values"
   ]
  },
  {
   "cell_type": "code",
   "execution_count": 18,
   "metadata": {},
   "outputs": [],
   "source": [
    "operadores = {}\n",
    "for operador in operadores_list:\n",
    "    operadores[int(operador)] = trasacao_workstation_service_date.query(f\"OperatorID=={operador}\")\n"
   ]
  },
  {
   "cell_type": "code",
   "execution_count": 19,
   "metadata": {},
   "outputs": [
    {
     "data": {
      "text/plain": [
       "dict_keys([105, 121, 128, 131, 301, 311, 317, 361])"
      ]
     },
     "execution_count": 19,
     "metadata": {},
     "output_type": "execute_result"
    }
   ],
   "source": [
    "operadores.keys()"
   ]
  },
  {
   "cell_type": "code",
   "execution_count": 20,
   "metadata": {},
   "outputs": [
    {
     "data": {
      "text/html": [
       "<div>\n",
       "<style scoped>\n",
       "    .dataframe tbody tr th:only-of-type {\n",
       "        vertical-align: middle;\n",
       "    }\n",
       "\n",
       "    .dataframe tbody tr th {\n",
       "        vertical-align: top;\n",
       "    }\n",
       "\n",
       "    .dataframe thead th {\n",
       "        text-align: right;\n",
       "    }\n",
       "</style>\n",
       "<table border=\"1\" class=\"dataframe\">\n",
       "  <thead>\n",
       "    <tr style=\"text-align: right;\">\n",
       "      <th></th>\n",
       "      <th>WorkstationGroupID</th>\n",
       "      <th>TranID</th>\n",
       "      <th>OperatorID</th>\n",
       "      <th>TranTime</th>\n",
       "      <th>BreakTime</th>\n",
       "      <th>ArtNum</th>\n",
       "      <th>Amount</th>\n",
       "    </tr>\n",
       "  </thead>\n",
       "  <tbody>\n",
       "    <tr>\n",
       "      <th>count</th>\n",
       "      <td>513.0</td>\n",
       "      <td>5.130000e+02</td>\n",
       "      <td>513.000000</td>\n",
       "      <td>513.000000</td>\n",
       "      <td>513.000000</td>\n",
       "      <td>513.000000</td>\n",
       "      <td>513.000000</td>\n",
       "    </tr>\n",
       "    <tr>\n",
       "      <th>mean</th>\n",
       "      <td>1.0</td>\n",
       "      <td>6.945371e+13</td>\n",
       "      <td>219.707602</td>\n",
       "      <td>50.557505</td>\n",
       "      <td>33.440546</td>\n",
       "      <td>15.191033</td>\n",
       "      <td>62.457505</td>\n",
       "    </tr>\n",
       "    <tr>\n",
       "      <th>std</th>\n",
       "      <td>0.0</td>\n",
       "      <td>8.018963e+13</td>\n",
       "      <td>94.280977</td>\n",
       "      <td>40.124575</td>\n",
       "      <td>71.216089</td>\n",
       "      <td>14.937191</td>\n",
       "      <td>78.536479</td>\n",
       "    </tr>\n",
       "    <tr>\n",
       "      <th>min</th>\n",
       "      <td>1.0</td>\n",
       "      <td>1.904031e+11</td>\n",
       "      <td>105.000000</td>\n",
       "      <td>0.000000</td>\n",
       "      <td>6.000000</td>\n",
       "      <td>1.000000</td>\n",
       "      <td>2.170000</td>\n",
       "    </tr>\n",
       "    <tr>\n",
       "      <th>25%</th>\n",
       "      <td>1.0</td>\n",
       "      <td>1.904031e+13</td>\n",
       "      <td>128.000000</td>\n",
       "      <td>24.000000</td>\n",
       "      <td>15.000000</td>\n",
       "      <td>6.000000</td>\n",
       "      <td>21.450000</td>\n",
       "    </tr>\n",
       "    <tr>\n",
       "      <th>50%</th>\n",
       "      <td>1.0</td>\n",
       "      <td>1.904031e+13</td>\n",
       "      <td>301.000000</td>\n",
       "      <td>41.000000</td>\n",
       "      <td>21.000000</td>\n",
       "      <td>11.000000</td>\n",
       "      <td>41.670000</td>\n",
       "    </tr>\n",
       "    <tr>\n",
       "      <th>75%</th>\n",
       "      <td>1.0</td>\n",
       "      <td>1.904031e+14</td>\n",
       "      <td>311.000000</td>\n",
       "      <td>67.000000</td>\n",
       "      <td>32.000000</td>\n",
       "      <td>20.000000</td>\n",
       "      <td>74.080000</td>\n",
       "    </tr>\n",
       "    <tr>\n",
       "      <th>max</th>\n",
       "      <td>1.0</td>\n",
       "      <td>1.904031e+14</td>\n",
       "      <td>361.000000</td>\n",
       "      <td>309.000000</td>\n",
       "      <td>1147.000000</td>\n",
       "      <td>123.000000</td>\n",
       "      <td>811.750000</td>\n",
       "    </tr>\n",
       "  </tbody>\n",
       "</table>\n",
       "</div>"
      ],
      "text/plain": [
       "       WorkstationGroupID        TranID  OperatorID    TranTime    BreakTime  \\\n",
       "count               513.0  5.130000e+02  513.000000  513.000000   513.000000   \n",
       "mean                  1.0  6.945371e+13  219.707602   50.557505    33.440546   \n",
       "std                   0.0  8.018963e+13   94.280977   40.124575    71.216089   \n",
       "min                   1.0  1.904031e+11  105.000000    0.000000     6.000000   \n",
       "25%                   1.0  1.904031e+13  128.000000   24.000000    15.000000   \n",
       "50%                   1.0  1.904031e+13  301.000000   41.000000    21.000000   \n",
       "75%                   1.0  1.904031e+14  311.000000   67.000000    32.000000   \n",
       "max                   1.0  1.904031e+14  361.000000  309.000000  1147.000000   \n",
       "\n",
       "           ArtNum      Amount  \n",
       "count  513.000000  513.000000  \n",
       "mean    15.191033   62.457505  \n",
       "std     14.937191   78.536479  \n",
       "min      1.000000    2.170000  \n",
       "25%      6.000000   21.450000  \n",
       "50%     11.000000   41.670000  \n",
       "75%     20.000000   74.080000  \n",
       "max    123.000000  811.750000  "
      ]
     },
     "execution_count": 20,
     "metadata": {},
     "output_type": "execute_result"
    }
   ],
   "source": [
    "trasacao_workstation_service_date.describe()"
   ]
  },
  {
   "cell_type": "code",
   "execution_count": 21,
   "metadata": {},
   "outputs": [],
   "source": [
    "trasacao_workstation_service_date_operador301 = trasacao_workstation_service_date.query(\"OperatorID == 301\")\n"
   ]
  },
  {
   "cell_type": "code",
   "execution_count": null,
   "metadata": {},
   "outputs": [],
   "source": []
  },
  {
   "cell_type": "code",
   "execution_count": null,
   "metadata": {},
   "outputs": [],
   "source": []
  },
  {
   "cell_type": "code",
   "execution_count": 22,
   "metadata": {},
   "outputs": [
    {
     "data": {
      "text/html": [
       "<div>\n",
       "<style scoped>\n",
       "    .dataframe tbody tr th:only-of-type {\n",
       "        vertical-align: middle;\n",
       "    }\n",
       "\n",
       "    .dataframe tbody tr th {\n",
       "        vertical-align: top;\n",
       "    }\n",
       "\n",
       "    .dataframe thead th {\n",
       "        text-align: right;\n",
       "    }\n",
       "</style>\n",
       "<table border=\"1\" class=\"dataframe\">\n",
       "  <thead>\n",
       "    <tr style=\"text-align: right;\">\n",
       "      <th></th>\n",
       "      <th>WorkstationGroupID</th>\n",
       "      <th>TranID</th>\n",
       "      <th>BeginDateTime</th>\n",
       "      <th>EndDateTime</th>\n",
       "      <th>OperatorID</th>\n",
       "      <th>TranTime</th>\n",
       "      <th>BreakTime</th>\n",
       "      <th>ArtNum</th>\n",
       "      <th>TNcash</th>\n",
       "      <th>TNcard</th>\n",
       "      <th>Amount</th>\n",
       "    </tr>\n",
       "  </thead>\n",
       "  <tbody>\n",
       "    <tr>\n",
       "      <th>44296</th>\n",
       "      <td>1</td>\n",
       "      <td>1.904031e+13</td>\n",
       "      <td>2019-04-03T12:53:40</td>\n",
       "      <td>2019-04-03T12:54:03</td>\n",
       "      <td>311</td>\n",
       "      <td>23</td>\n",
       "      <td>17</td>\n",
       "      <td>7</td>\n",
       "      <td>False</td>\n",
       "      <td>True</td>\n",
       "      <td>11.29</td>\n",
       "    </tr>\n",
       "    <tr>\n",
       "      <th>44297</th>\n",
       "      <td>1</td>\n",
       "      <td>1.904031e+13</td>\n",
       "      <td>2019-04-03T12:54:20</td>\n",
       "      <td>2019-04-03T12:55:25</td>\n",
       "      <td>311</td>\n",
       "      <td>65</td>\n",
       "      <td>15</td>\n",
       "      <td>3</td>\n",
       "      <td>True</td>\n",
       "      <td>False</td>\n",
       "      <td>13.42</td>\n",
       "    </tr>\n",
       "    <tr>\n",
       "      <th>44298</th>\n",
       "      <td>1</td>\n",
       "      <td>1.904031e+13</td>\n",
       "      <td>2019-04-03T12:55:40</td>\n",
       "      <td>2019-04-03T12:57:11</td>\n",
       "      <td>311</td>\n",
       "      <td>91</td>\n",
       "      <td>10</td>\n",
       "      <td>22</td>\n",
       "      <td>False</td>\n",
       "      <td>True</td>\n",
       "      <td>60.26</td>\n",
       "    </tr>\n",
       "    <tr>\n",
       "      <th>44299</th>\n",
       "      <td>1</td>\n",
       "      <td>1.904031e+13</td>\n",
       "      <td>2019-04-03T12:57:21</td>\n",
       "      <td>2019-04-03T12:58:00</td>\n",
       "      <td>311</td>\n",
       "      <td>39</td>\n",
       "      <td>17</td>\n",
       "      <td>12</td>\n",
       "      <td>True</td>\n",
       "      <td>False</td>\n",
       "      <td>63.88</td>\n",
       "    </tr>\n",
       "    <tr>\n",
       "      <th>44300</th>\n",
       "      <td>1</td>\n",
       "      <td>1.904031e+13</td>\n",
       "      <td>2019-04-03T12:58:17</td>\n",
       "      <td>2019-04-03T12:59:22</td>\n",
       "      <td>311</td>\n",
       "      <td>65</td>\n",
       "      <td>47</td>\n",
       "      <td>14</td>\n",
       "      <td>True</td>\n",
       "      <td>False</td>\n",
       "      <td>59.82</td>\n",
       "    </tr>\n",
       "  </tbody>\n",
       "</table>\n",
       "</div>"
      ],
      "text/plain": [
       "       WorkstationGroupID        TranID        BeginDateTime  \\\n",
       "44296                   1  1.904031e+13  2019-04-03T12:53:40   \n",
       "44297                   1  1.904031e+13  2019-04-03T12:54:20   \n",
       "44298                   1  1.904031e+13  2019-04-03T12:55:40   \n",
       "44299                   1  1.904031e+13  2019-04-03T12:57:21   \n",
       "44300                   1  1.904031e+13  2019-04-03T12:58:17   \n",
       "\n",
       "               EndDateTime  OperatorID  TranTime  BreakTime  ArtNum  TNcash  \\\n",
       "44296  2019-04-03T12:54:03         311        23         17       7   False   \n",
       "44297  2019-04-03T12:55:25         311        65         15       3    True   \n",
       "44298  2019-04-03T12:57:11         311        91         10      22   False   \n",
       "44299  2019-04-03T12:58:00         311        39         17      12    True   \n",
       "44300  2019-04-03T12:59:22         311        65         47      14    True   \n",
       "\n",
       "       TNcard  Amount  \n",
       "44296    True   11.29  \n",
       "44297   False   13.42  \n",
       "44298    True   60.26  \n",
       "44299   False   63.88  \n",
       "44300   False   59.82  "
      ]
     },
     "execution_count": 22,
     "metadata": {},
     "output_type": "execute_result"
    }
   ],
   "source": [
    "trasacao_workstation_service_date_operador311 = trasacao_workstation_service_date.query(\"OperatorID == 311\")\n",
    "trasacao_workstation_service_date_operador311.tail()"
   ]
  }
 ],
 "metadata": {
  "kernelspec": {
   "display_name": "Python 3",
   "language": "python",
   "name": "python3"
  },
  "language_info": {
   "codemirror_mode": {
    "name": "ipython",
    "version": 3
   },
   "file_extension": ".py",
   "mimetype": "text/x-python",
   "name": "python",
   "nbconvert_exporter": "python",
   "pygments_lexer": "ipython3",
   "version": "3.8.5"
  }
 },
 "nbformat": 4,
 "nbformat_minor": 4
}

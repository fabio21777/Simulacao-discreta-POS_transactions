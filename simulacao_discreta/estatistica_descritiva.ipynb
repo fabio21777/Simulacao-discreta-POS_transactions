{
 "cells": [
  {
   "cell_type": "code",
   "execution_count": 1,
   "metadata": {},
   "outputs": [],
   "source": [
    "import numpy as np\n",
    "import pandas as pd\n",
    "import re\n",
    "import collections\n",
    "import operator\n",
    "import simpy"
   ]
  },
  {
   "cell_type": "code",
   "execution_count": 2,
   "metadata": {},
   "outputs": [],
   "source": [
    "trasacao = pd.read_csv(\"data/POS_transactions_20190328-20190410.csv\")"
   ]
  },
  {
   "cell_type": "code",
   "execution_count": 3,
   "metadata": {},
   "outputs": [
    {
     "data": {
      "text/html": [
       "<div>\n",
       "<style scoped>\n",
       "    .dataframe tbody tr th:only-of-type {\n",
       "        vertical-align: middle;\n",
       "    }\n",
       "\n",
       "    .dataframe tbody tr th {\n",
       "        vertical-align: top;\n",
       "    }\n",
       "\n",
       "    .dataframe thead th {\n",
       "        text-align: right;\n",
       "    }\n",
       "</style>\n",
       "<table border=\"1\" class=\"dataframe\">\n",
       "  <thead>\n",
       "    <tr style=\"text-align: right;\">\n",
       "      <th></th>\n",
       "      <th>WorkstationGroupID</th>\n",
       "      <th>TranID</th>\n",
       "      <th>BeginDateTime</th>\n",
       "      <th>EndDateTime</th>\n",
       "      <th>OperatorID</th>\n",
       "      <th>TranTime</th>\n",
       "      <th>BreakTime</th>\n",
       "      <th>ArtNum</th>\n",
       "      <th>TNcash</th>\n",
       "      <th>TNcard</th>\n",
       "      <th>Amount</th>\n",
       "    </tr>\n",
       "  </thead>\n",
       "  <tbody>\n",
       "    <tr>\n",
       "      <th>0</th>\n",
       "      <td>1</td>\n",
       "      <td>1.904031e+13</td>\n",
       "      <td>2019-04-03T13:28:17</td>\n",
       "      <td>2019-04-03T13:28:17</td>\n",
       "      <td>10</td>\n",
       "      <td>0</td>\n",
       "      <td>1</td>\n",
       "      <td>1</td>\n",
       "      <td>False</td>\n",
       "      <td>False</td>\n",
       "      <td>11.99</td>\n",
       "    </tr>\n",
       "    <tr>\n",
       "      <th>1</th>\n",
       "      <td>1</td>\n",
       "      <td>1.903291e+13</td>\n",
       "      <td>2019-03-29T14:04:50</td>\n",
       "      <td>2019-03-29T14:05:31</td>\n",
       "      <td>101</td>\n",
       "      <td>41</td>\n",
       "      <td>21</td>\n",
       "      <td>6</td>\n",
       "      <td>True</td>\n",
       "      <td>False</td>\n",
       "      <td>13.74</td>\n",
       "    </tr>\n",
       "    <tr>\n",
       "      <th>2</th>\n",
       "      <td>1</td>\n",
       "      <td>1.903291e+13</td>\n",
       "      <td>2019-03-29T14:05:52</td>\n",
       "      <td>2019-03-29T14:06:35</td>\n",
       "      <td>101</td>\n",
       "      <td>43</td>\n",
       "      <td>44</td>\n",
       "      <td>12</td>\n",
       "      <td>True</td>\n",
       "      <td>False</td>\n",
       "      <td>97.47</td>\n",
       "    </tr>\n",
       "    <tr>\n",
       "      <th>3</th>\n",
       "      <td>1</td>\n",
       "      <td>1.903291e+13</td>\n",
       "      <td>2019-03-29T14:07:19</td>\n",
       "      <td>2019-03-29T14:07:43</td>\n",
       "      <td>101</td>\n",
       "      <td>24</td>\n",
       "      <td>25</td>\n",
       "      <td>6</td>\n",
       "      <td>False</td>\n",
       "      <td>True</td>\n",
       "      <td>37.18</td>\n",
       "    </tr>\n",
       "    <tr>\n",
       "      <th>4</th>\n",
       "      <td>1</td>\n",
       "      <td>1.903291e+13</td>\n",
       "      <td>2019-03-29T14:08:08</td>\n",
       "      <td>2019-03-29T14:09:44</td>\n",
       "      <td>101</td>\n",
       "      <td>96</td>\n",
       "      <td>18</td>\n",
       "      <td>48</td>\n",
       "      <td>True</td>\n",
       "      <td>False</td>\n",
       "      <td>154.70</td>\n",
       "    </tr>\n",
       "  </tbody>\n",
       "</table>\n",
       "</div>"
      ],
      "text/plain": [
       "   WorkstationGroupID        TranID        BeginDateTime          EndDateTime  \\\n",
       "0                   1  1.904031e+13  2019-04-03T13:28:17  2019-04-03T13:28:17   \n",
       "1                   1  1.903291e+13  2019-03-29T14:04:50  2019-03-29T14:05:31   \n",
       "2                   1  1.903291e+13  2019-03-29T14:05:52  2019-03-29T14:06:35   \n",
       "3                   1  1.903291e+13  2019-03-29T14:07:19  2019-03-29T14:07:43   \n",
       "4                   1  1.903291e+13  2019-03-29T14:08:08  2019-03-29T14:09:44   \n",
       "\n",
       "   OperatorID  TranTime  BreakTime  ArtNum  TNcash  TNcard  Amount  \n",
       "0          10         0          1       1   False   False   11.99  \n",
       "1         101        41         21       6    True   False   13.74  \n",
       "2         101        43         44      12    True   False   97.47  \n",
       "3         101        24         25       6   False    True   37.18  \n",
       "4         101        96         18      48    True   False  154.70  "
      ]
     },
     "execution_count": 3,
     "metadata": {},
     "output_type": "execute_result"
    }
   ],
   "source": [
    "trasacao.head()"
   ]
  },
  {
   "cell_type": "code",
   "execution_count": 4,
   "metadata": {},
   "outputs": [
    {
     "data": {
      "text/plain": [
       "WorkstationGroupID      int64\n",
       "TranID                float64\n",
       "BeginDateTime          object\n",
       "EndDateTime            object\n",
       "OperatorID              int64\n",
       "TranTime                int64\n",
       "BreakTime               int64\n",
       "ArtNum                  int64\n",
       "TNcash                   bool\n",
       "TNcard                   bool\n",
       "Amount                float64\n",
       "dtype: object"
      ]
     },
     "execution_count": 4,
     "metadata": {},
     "output_type": "execute_result"
    }
   ],
   "source": [
    "trasacao.dtypes"
   ]
  },
  {
   "cell_type": "code",
   "execution_count": 5,
   "metadata": {},
   "outputs": [],
   "source": [
    "trasacao_workstation_service = trasacao.query('WorkstationGroupID == 1')"
   ]
  },
  {
   "cell_type": "code",
   "execution_count": 6,
   "metadata": {},
   "outputs": [],
   "source": [
    "trasacao_workstation_service_date = trasacao_workstation_service.loc[trasacao_workstation_service.BeginDateTime.str.contains('2019-04-03T10|2019-04-03T11|2019-04-03T12', flags=re.I, regex=True)]"
   ]
  },
  {
   "cell_type": "markdown",
   "metadata": {},
   "source": [
    "## Estatistica descritiva campo TranTime"
   ]
  },
  {
   "cell_type": "code",
   "execution_count": 7,
   "metadata": {},
   "outputs": [
    {
     "name": "stdout",
     "output_type": "stream",
     "text": [
      "media 50.55750487329435\n",
      "mediana 41.0\n",
      "Moda [26, 31]\n",
      "minimo 0\n",
      "maximo 309\n",
      "amplitude 309\n",
      "desvio padrão 40.12457538731323\n",
      "variacia 1609.9815500121827\n",
      "coeficinte de variação 0.7936423185414746\n",
      "Assimetria 2.0333015820729505\n"
     ]
    }
   ],
   "source": [
    "print(\"media\",trasacao_workstation_service_date[\"TranTime\"].mean())\n",
    "print(\"mediana\",trasacao_workstation_service_date[\"TranTime\"].median())\n",
    "print(\"Moda\",list(trasacao_workstation_service_date[\"TranTime\"].mode()))\n",
    "print(\"minimo\",trasacao_workstation_service_date[\"TranTime\"].min())\n",
    "print(\"maximo\",trasacao_workstation_service_date[\"TranTime\"].max())\n",
    "print(\"amplitude\",trasacao_workstation_service_date[\"TranTime\"].max()-trasacao_workstation_service_date[\"TranTime\"].min())\n",
    "print(\"desvio padrão\",trasacao_workstation_service_date[\"TranTime\"].std())\n",
    "print(\"variacia\",trasacao_workstation_service_date[\"TranTime\"].var())\n",
    "print(\"coeficinte de variação\",trasacao_workstation_service_date[\"TranTime\"].std()/trasacao_workstation_service_date[\"TranTime\"].mean())\n",
    "print(\"Assimetria\",trasacao_workstation_service_date[\"TranTime\"].skew())"
   ]
  },
  {
   "cell_type": "markdown",
   "metadata": {},
   "source": [
    "## Estatistica descritiva campo Breaktime"
   ]
  },
  {
   "cell_type": "code",
   "execution_count": 8,
   "metadata": {},
   "outputs": [
    {
     "name": "stdout",
     "output_type": "stream",
     "text": [
      "media 33.44054580896686\n",
      "mediana 21.0\n",
      "Moda [17]\n",
      "minimo 6\n",
      "maximo 1147\n",
      "amplitude 1147\n",
      "desvio padrão 71.21608892361684\n",
      "variacia 5071.731321576502\n",
      "coeficinte de variação 1.4086155774913416\n",
      "Assimetria 12.022677107628233\n"
     ]
    }
   ],
   "source": [
    "print(\"media\",trasacao_workstation_service_date[\"BreakTime\"].mean())\n",
    "print(\"mediana\",trasacao_workstation_service_date[\"BreakTime\"].median())\n",
    "print(\"Moda\",list(trasacao_workstation_service_date[\"BreakTime\"].mode()))\n",
    "print(\"minimo\",trasacao_workstation_service_date[\"BreakTime\"].min())\n",
    "print(\"maximo\",trasacao_workstation_service_date[\"BreakTime\"].max())\n",
    "print(\"amplitude\",trasacao_workstation_service_date[\"BreakTime\"].max()-trasacao_workstation_service_date[\"TranTime\"].min())\n",
    "print(\"desvio padrão\",trasacao_workstation_service_date[\"BreakTime\"].std())\n",
    "print(\"variacia\",trasacao_workstation_service_date[\"BreakTime\"].var())\n",
    "print(\"coeficinte de variação\",trasacao_workstation_service_date[\"BreakTime\"].std()/trasacao_workstation_service_date[\"TranTime\"].mean())\n",
    "print(\"Assimetria\",trasacao_workstation_service_date[\"BreakTime\"].skew())"
   ]
  },
  {
   "cell_type": "markdown",
   "metadata": {},
   "source": [
    "## Estatistica Descritiva campo numeros de artigos"
   ]
  },
  {
   "cell_type": "code",
   "execution_count": 9,
   "metadata": {},
   "outputs": [
    {
     "name": "stdout",
     "output_type": "stream",
     "text": [
      "media 15.19103313840156\n",
      "mediana 11.0\n",
      "Moda [3]\n",
      "minimo 1\n",
      "maximo 123\n",
      "amplitude 123\n",
      "desvio padrão 14.937191337843698\n",
      "variacia 223.1196850633528\n",
      "coeficinte de variação 0.2954495356382564\n",
      "Assimetria 2.6803168909075863\n"
     ]
    }
   ],
   "source": [
    "print(\"media\",trasacao_workstation_service_date[\"ArtNum\"].mean())\n",
    "print(\"mediana\",trasacao_workstation_service_date[\"ArtNum\"].median())\n",
    "print(\"Moda\",list(trasacao_workstation_service_date[\"ArtNum\"].mode()))\n",
    "print(\"minimo\",trasacao_workstation_service_date[\"ArtNum\"].min())\n",
    "print(\"maximo\",trasacao_workstation_service_date[\"ArtNum\"].max())\n",
    "print(\"amplitude\",trasacao_workstation_service_date[\"ArtNum\"].max()-trasacao_workstation_service_date[\"TranTime\"].min())\n",
    "print(\"desvio padrão\",trasacao_workstation_service_date[\"ArtNum\"].std())\n",
    "print(\"variacia\",trasacao_workstation_service_date[\"ArtNum\"].var())\n",
    "print(\"coeficinte de variação\",trasacao_workstation_service_date[\"ArtNum\"].std()/trasacao_workstation_service_date[\"TranTime\"].mean())\n",
    "print(\"Assimetria\",trasacao_workstation_service_date[\"ArtNum\"].skew())"
   ]
  },
  {
   "cell_type": "markdown",
   "metadata": {},
   "source": [
    "## Estatistica Descritiva campo TNcash e TNcard"
   ]
  },
  {
   "cell_type": "code",
   "execution_count": 10,
   "metadata": {},
   "outputs": [
    {
     "data": {
      "text/plain": [
       "count      513\n",
       "unique       2\n",
       "top       True\n",
       "freq       335\n",
       "Name: TNcash, dtype: object"
      ]
     },
     "execution_count": 10,
     "metadata": {},
     "output_type": "execute_result"
    }
   ],
   "source": [
    "trasacao_workstation_service_date[\"TNcash\"].describe()"
   ]
  },
  {
   "cell_type": "code",
   "execution_count": 11,
   "metadata": {},
   "outputs": [],
   "source": [
    "frequencia = collections.Counter(trasacao_workstation_service_date[\"ArtNum\"])"
   ]
  },
  {
   "cell_type": "code",
   "execution_count": 12,
   "metadata": {},
   "outputs": [],
   "source": [
    "frequencia_ordenada = sorted(frequencia.items(), key=operator.itemgetter(1), reverse=True)"
   ]
  },
  {
   "cell_type": "code",
   "execution_count": 13,
   "metadata": {},
   "outputs": [],
   "source": [
    "frequencia_porcentagem = {}"
   ]
  },
  {
   "cell_type": "code",
   "execution_count": 14,
   "metadata": {},
   "outputs": [
    {
     "name": "stdout",
     "output_type": "stream",
     "text": [
      "3 36\n",
      "4 34\n",
      "8 30\n",
      "6 30\n",
      "7 26\n",
      "12 25\n",
      "10 25\n",
      "9 22\n",
      "5 21\n",
      "11 20\n",
      "13 19\n",
      "20 16\n",
      "2 14\n",
      "15 14\n",
      "14 14\n",
      "16 13\n",
      "1 13\n",
      "21 12\n",
      "17 12\n",
      "19 10\n",
      "26 9\n",
      "22 8\n",
      "24 7\n",
      "30 6\n",
      "18 5\n",
      "27 5\n",
      "23 4\n",
      "37 4\n",
      "42 4\n",
      "31 4\n",
      "40 3\n",
      "25 3\n",
      "48 3\n",
      "33 3\n",
      "41 2\n",
      "44 2\n",
      "39 2\n",
      "35 2\n",
      "34 2\n",
      "38 2\n",
      "28 2\n",
      "36 2\n",
      "47 2\n",
      "62 2\n",
      "58 1\n",
      "67 1\n",
      "59 1\n",
      "32 1\n",
      "98 1\n",
      "82 1\n",
      "45 1\n",
      "123 1\n",
      "53 1\n",
      "29 1\n",
      "87 1\n",
      "49 1\n",
      "76 1\n",
      "51 1\n",
      "46 1\n",
      "64 1\n",
      "70 1\n",
      "72 1\n",
      "84 1\n"
     ]
    }
   ],
   "source": [
    "for frequencia in frequencia_ordenada:\n",
    "    print(frequencia[0],frequencia[1])\n",
    "    porcentagem = (frequencia[1]/len(trasacao_workstation_service_date.index))*100\n",
    "    frequencia_porcentagem[porcentagem] = frequencia[0]"
   ]
  },
  {
   "cell_type": "code",
   "execution_count": 15,
   "metadata": {},
   "outputs": [
    {
     "name": "stdout",
     "output_type": "stream",
     "text": [
      "7.017543859649122 3\n",
      "6.627680311890838 4\n",
      "5.847953216374268 6\n",
      "5.0682261208577 7\n",
      "4.8732943469785575 10\n",
      "4.28849902534113 9\n",
      "4.093567251461988 5\n",
      "3.898635477582846 11\n",
      "3.7037037037037033 13\n",
      "3.1189083820662766 20\n",
      "2.729044834307992 14\n",
      "2.53411306042885 1\n",
      "2.3391812865497075 17\n",
      "1.949317738791423 19\n",
      "1.7543859649122806 26\n",
      "1.5594541910331383 22\n",
      "1.364522417153996 24\n",
      "1.1695906432748537 30\n",
      "0.9746588693957114 27\n",
      "0.7797270955165692 31\n",
      "0.5847953216374269 33\n",
      "0.3898635477582846 62\n",
      "0.1949317738791423 84\n"
     ]
    }
   ],
   "source": [
    "soma_frequencia = 0\n",
    "for frequencia, valor in frequencia_porcentagem.items():\n",
    "   print(frequencia, valor)\n"
   ]
  },
  {
   "cell_type": "markdown",
   "metadata": {},
   "source": [
    "## Calculando o tempo medio de item por segundo"
   ]
  },
  {
   "cell_type": "code",
   "execution_count": 16,
   "metadata": {},
   "outputs": [],
   "source": [
    "\n",
    "produtos_segundos = 0\n",
    "for index, trasacao in trasacao_workstation_service_date.iterrows():\n",
    "    produtos_segundos += trasacao['ArtNum']/np.add(trasacao[\"TranTime\"],trasacao[\"BreakTime\"])\n",
    "media_produtos_segundos=len(trasacao_workstation_service_date.index)/produtos_segundos"
   ]
  },
  {
   "cell_type": "code",
   "execution_count": 17,
   "metadata": {},
   "outputs": [
    {
     "data": {
      "text/plain": [
       "5.475793093049854"
      ]
     },
     "execution_count": 17,
     "metadata": {},
     "output_type": "execute_result"
    }
   ],
   "source": [
    "media_produtos_segundos"
   ]
  },
  {
   "cell_type": "code",
   "execution_count": 18,
   "metadata": {},
   "outputs": [],
   "source": [
    "OperatorIDs=trasacao_workstation_service_date[['OperatorID']]"
   ]
  },
  {
   "cell_type": "code",
   "execution_count": 19,
   "metadata": {},
   "outputs": [],
   "source": [
    "operadores_unicos = OperatorIDs.drop_duplicates()\n",
    "operadores_list = operadores_unicos.values"
   ]
  },
  {
   "cell_type": "code",
   "execution_count": 20,
   "metadata": {},
   "outputs": [],
   "source": [
    "operadores = {}\n",
    "for operador in operadores_list:\n",
    "    operadores[int(operador)] = trasacao_workstation_service_date.query(f\"OperatorID=={operador}\")\n"
   ]
  },
  {
   "cell_type": "code",
   "execution_count": 21,
   "metadata": {},
   "outputs": [
    {
     "data": {
      "text/plain": [
       "dict_keys([105, 121, 128, 131, 301, 311, 317, 361])"
      ]
     },
     "execution_count": 21,
     "metadata": {},
     "output_type": "execute_result"
    }
   ],
   "source": [
    "operadores.keys()"
   ]
  }
 ],
 "metadata": {
  "kernelspec": {
   "display_name": "Python 3",
   "language": "python",
   "name": "python3"
  },
  "language_info": {
   "codemirror_mode": {
    "name": "ipython",
    "version": 3
   },
   "file_extension": ".py",
   "mimetype": "text/x-python",
   "name": "python",
   "nbconvert_exporter": "python",
   "pygments_lexer": "ipython3",
   "version": "3.8.5"
  }
 },
 "nbformat": 4,
 "nbformat_minor": 4
}
